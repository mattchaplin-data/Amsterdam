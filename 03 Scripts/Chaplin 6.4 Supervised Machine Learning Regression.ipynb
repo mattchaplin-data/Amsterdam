{
 "cells": [
  {
   "cell_type": "markdown",
   "id": "1374705f",
   "metadata": {},
   "source": [
    "### This script contains the following:\n",
    "\n",
    "#### 1. Importing libraries and data\n",
    "#### 2. consistency checks\n",
    "#### 3. Data prep for regression analysis\n",
    "#### 4. Regression analysis\n",
    "#### 5. Reflections"
   ]
  },
  {
   "cell_type": "markdown",
   "id": "04c70f78",
   "metadata": {},
   "source": [
    "## 1. Import libraries and Data"
   ]
  },
  {
   "cell_type": "code",
   "execution_count": 1,
   "id": "97cef39a",
   "metadata": {},
   "outputs": [],
   "source": [
    "import pandas as pd\n",
    "import numpy as np\n",
    "import seaborn as sns\n",
    "import matplotlib\n",
    "import matplotlib.pyplot as plt\n",
    "import os\n",
    "import sklearn\n",
    "from sklearn.model_selection import train_test_split \n",
    "from sklearn.linear_model import LinearRegression\n",
    "from sklearn.metrics import mean_squared_error, r2_score"
   ]
  },
  {
   "cell_type": "code",
   "execution_count": 2,
   "id": "4f2efe70",
   "metadata": {},
   "outputs": [],
   "source": [
    "# This option ensures that the graphs you create are displayed within the notebook without the need to \"call\" them specifically.\n",
    "\n",
    "%matplotlib inline"
   ]
  },
  {
   "cell_type": "code",
   "execution_count": 3,
   "id": "4cdd1d92",
   "metadata": {},
   "outputs": [],
   "source": [
    "# create a path\n",
    "path = r\"C:\\Users\\Asus 17\\OneDrive\\Desktop\\Achievement 6\\amsterdam\""
   ]
  },
  {
   "cell_type": "code",
   "execution_count": 4,
   "id": "e22ba1b0",
   "metadata": {},
   "outputs": [],
   "source": [
    "#import listings_numeric\n",
    "df = pd.read_csv(os.path.join(path, '02 Data', 'Prepared Data', 'listings_numeric.csv'))"
   ]
  },
  {
   "cell_type": "markdown",
   "id": "faa34587",
   "metadata": {},
   "source": [
    "## 2. Consistency Checks"
   ]
  },
  {
   "cell_type": "code",
   "execution_count": 6,
   "id": "4ab4869b",
   "metadata": {},
   "outputs": [
    {
     "data": {
      "text/plain": [
       "Unnamed: 0                            0\n",
       "id                                    0\n",
       "host_id                               0\n",
       "square_feet                       19624\n",
       "price                                 0\n",
       "weekly_price                      17187\n",
       "monthly_price                     18469\n",
       "security_deposit                   6166\n",
       "cleaning_fee                       3629\n",
       "guests_included                       0\n",
       "extra_people                          0\n",
       "minimum_nights                        0\n",
       "maximum_nights                        0\n",
       "number_of_reviews                     0\n",
       "review_scores_rating               2639\n",
       "review_scores_accuracy             2649\n",
       "review_scores_cleanliness          2647\n",
       "review_scores_checkin              2661\n",
       "review_scores_communication        2652\n",
       "review_scores_location             2660\n",
       "review_scores_value                2659\n",
       "calculated_host_listings_count        0\n",
       "dtype: int64"
      ]
     },
     "execution_count": 6,
     "metadata": {},
     "output_type": "execute_result"
    }
   ],
   "source": [
    "#check for missing values\n",
    "df.isnull().sum()"
   ]
  },
  {
   "cell_type": "code",
   "execution_count": 7,
   "id": "ecc4acfc",
   "metadata": {},
   "outputs": [
    {
     "data": {
      "text/plain": [
       "(20030, 22)"
      ]
     },
     "execution_count": 7,
     "metadata": {},
     "output_type": "execute_result"
    }
   ],
   "source": [
    "df.shape"
   ]
  },
  {
   "cell_type": "code",
   "execution_count": 9,
   "id": "d8c50523",
   "metadata": {},
   "outputs": [],
   "source": [
    "#duplicates check\n",
    "dups = df.duplicated()"
   ]
  },
  {
   "cell_type": "code",
   "execution_count": 10,
   "id": "048d59b3",
   "metadata": {},
   "outputs": [
    {
     "data": {
      "text/plain": [
       "(20030,)"
      ]
     },
     "execution_count": 10,
     "metadata": {},
     "output_type": "execute_result"
    }
   ],
   "source": [
    "dups.shape"
   ]
  },
  {
   "cell_type": "code",
   "execution_count": 11,
   "id": "24db135b",
   "metadata": {},
   "outputs": [
    {
     "name": "stderr",
     "output_type": "stream",
     "text": [
      "C:\\Users\\Asus 17\\AppData\\Local\\Temp\\ipykernel_5316\\2624995657.py:2: UserWarning: \n",
      "\n",
      "`distplot` is a deprecated function and will be removed in seaborn v0.14.0.\n",
      "\n",
      "Please adapt your code to use either `displot` (a figure-level function with\n",
      "similar flexibility) or `histplot` (an axes-level function for histograms).\n",
      "\n",
      "For a guide to updating your code to use the new functions, please see\n",
      "https://gist.github.com/mwaskom/de44147ed2974457ad6372750bbe5751\n",
      "\n",
      "  sns.distplot(df['price'], bins = 25)\n"
     ]
    },
    {
     "data": {
      "text/plain": [
       "<Axes: xlabel='price', ylabel='Density'>"
      ]
     },
     "execution_count": 11,
     "metadata": {},
     "output_type": "execute_result"
    },
    {
     "data": {
      "image/png": "[encoded data removed]",
      "text/plain": [
       "<Figure size 640x480 with 1 Axes>"
      ]
     },
     "metadata": {},
     "output_type": "display_data"
    }
   ],
   "source": [
    "#extreme values check\n",
    "sns.distplot(df['price'], bins = 25)"
   ]
  },
  {
   "cell_type": "code",
   "execution_count": 12,
   "id": "a8ca176f",
   "metadata": {},
   "outputs": [
    {
     "data": {
      "text/plain": [
       "148.74473290064904"
      ]
     },
     "execution_count": 12,
     "metadata": {},
     "output_type": "execute_result"
    }
   ],
   "source": [
    "#check mean\n",
    "df['price'].mean()"
   ]
  },
  {
   "cell_type": "code",
   "execution_count": 13,
   "id": "05ef69bd",
   "metadata": {},
   "outputs": [
    {
     "data": {
      "text/html": [
       "<div>\n",
       "<style scoped>\n",
       "    .dataframe tbody tr th:only-of-type {\n",
       "        vertical-align: middle;\n",
       "    }\n",
       "\n",
       "    .dataframe tbody tr th {\n",
       "        vertical-align: top;\n",
       "    }\n",
       "\n",
       "    .dataframe thead th {\n",
       "        text-align: right;\n",
       "    }\n",
       "</style>\n",
       "<table border=\"1\" class=\"dataframe\">\n",
       "  <thead>\n",
       "    <tr style=\"text-align: right;\">\n",
       "      <th></th>\n",
       "      <th>price</th>\n",
       "      <th>number_of_reviews</th>\n",
       "    </tr>\n",
       "  </thead>\n",
       "  <tbody>\n",
       "    <tr>\n",
       "      <th>count</th>\n",
       "      <td>20030.000000</td>\n",
       "      <td>20030.000000</td>\n",
       "    </tr>\n",
       "    <tr>\n",
       "      <th>mean</th>\n",
       "      <td>148.744733</td>\n",
       "      <td>21.560459</td>\n",
       "    </tr>\n",
       "    <tr>\n",
       "      <th>std</th>\n",
       "      <td>89.990324</td>\n",
       "      <td>43.240292</td>\n",
       "    </tr>\n",
       "    <tr>\n",
       "      <th>min</th>\n",
       "      <td>0.000000</td>\n",
       "      <td>0.000000</td>\n",
       "    </tr>\n",
       "    <tr>\n",
       "      <th>25%</th>\n",
       "      <td>95.000000</td>\n",
       "      <td>3.000000</td>\n",
       "    </tr>\n",
       "    <tr>\n",
       "      <th>50%</th>\n",
       "      <td>125.000000</td>\n",
       "      <td>8.000000</td>\n",
       "    </tr>\n",
       "    <tr>\n",
       "      <th>75%</th>\n",
       "      <td>175.000000</td>\n",
       "      <td>22.000000</td>\n",
       "    </tr>\n",
       "    <tr>\n",
       "      <th>max</th>\n",
       "      <td>999.000000</td>\n",
       "      <td>695.000000</td>\n",
       "    </tr>\n",
       "  </tbody>\n",
       "</table>\n",
       "</div>"
      ],
      "text/plain": [
       "              price  number_of_reviews\n",
       "count  20030.000000       20030.000000\n",
       "mean     148.744733          21.560459\n",
       "std       89.990324          43.240292\n",
       "min        0.000000           0.000000\n",
       "25%       95.000000           3.000000\n",
       "50%      125.000000           8.000000\n",
       "75%      175.000000          22.000000\n",
       "max      999.000000         695.000000"
      ]
     },
     "execution_count": 13,
     "metadata": {},
     "output_type": "execute_result"
    }
   ],
   "source": [
    "#summary stats\n",
    "df[['price', 'number_of_reviews']].describe()"
   ]
  },
  {
   "cell_type": "markdown",
   "id": "dfe774f1",
   "metadata": {},
   "source": [
    "## 3. Data prep for regression analysis"
   ]
  },
  {
   "cell_type": "code",
   "execution_count": 14,
   "id": "149c48a7",
   "metadata": {},
   "outputs": [
    {
     "data": {
      "text/plain": [
       "Text(0, 0.5, 'price')"
      ]
     },
     "execution_count": 14,
     "metadata": {},
     "output_type": "execute_result"
    },
    {
     "data": {
      "image/png": "[encoded data removed]",
      "text/plain": [
       "<Figure size 640x480 with 1 Axes>"
      ]
     },
     "metadata": {},
     "output_type": "display_data"
    }
   ],
   "source": [
    "#create a scatterplot using matplotlib\n",
    "df.plot(x = 'number_of_reviews', y = 'price', style = 'o')\n",
    "plt.title('number of reviews vs price')\n",
    "plt.xlabel('number of reviews')\n",
    "plt.ylabel('price')"
   ]
  },
  {
   "cell_type": "markdown",
   "id": "3b00c4cf",
   "metadata": {},
   "source": [
    "### Hypothesis:\n",
    "If a property has fewer reviews, then it is more expensive"
   ]
  },
  {
   "cell_type": "code",
   "execution_count": 15,
   "id": "c5b64516",
   "metadata": {},
   "outputs": [],
   "source": [
    "# reshape variables into NumPy arrays\n",
    "X = df['number_of_reviews'].values.reshape(-1, 1)\n",
    "y = df['price'].values.reshape(-1, 1)"
   ]
  },
  {
   "cell_type": "code",
   "execution_count": 16,
   "id": "e0f69bdf",
   "metadata": {},
   "outputs": [
    {
     "data": {
      "text/plain": [
       "array([[248],\n",
       "       [ 42],\n",
       "       [233],\n",
       "       ...,\n",
       "       [  0],\n",
       "       [  0],\n",
       "       [  0]], dtype=int64)"
      ]
     },
     "execution_count": 16,
     "metadata": {},
     "output_type": "execute_result"
    }
   ],
   "source": [
    "X"
   ]
  },
  {
   "cell_type": "code",
   "execution_count": 17,
   "id": "19a6da42",
   "metadata": {},
   "outputs": [
    {
     "data": {
      "text/plain": [
       "array([[ 59.],\n",
       "       [160.],\n",
       "       [ 80.],\n",
       "       ...,\n",
       "       [ 80.],\n",
       "       [ 55.],\n",
       "       [220.]])"
      ]
     },
     "execution_count": 17,
     "metadata": {},
     "output_type": "execute_result"
    }
   ],
   "source": [
    "y"
   ]
  },
  {
   "cell_type": "code",
   "execution_count": 18,
   "id": "a22d0d2a",
   "metadata": {},
   "outputs": [],
   "source": [
    "# split into a training set and a test set\n",
    "X_train, X_test, y_train, y_test = train_test_split(X, y, test_size = 0.3, random_state = 0)"
   ]
  },
  {
   "cell_type": "markdown",
   "id": "54e770ae",
   "metadata": {},
   "source": [
    "## 4. Regression Analysis"
   ]
  },
  {
   "cell_type": "code",
   "execution_count": 20,
   "id": "b0348b40",
   "metadata": {},
   "outputs": [],
   "source": [
    "# Create a regression object\n",
    "regression = LinearRegression()"
   ]
  },
  {
   "cell_type": "code",
   "execution_count": 21,
   "id": "fb9d62fa",
   "metadata": {},
   "outputs": [
    {
     "data": {
      "text/html": [
       "<style>#sk-container-id-1 {color: black;}#sk-container-id-1 pre{padding: 0;}#sk-container-id-1 div.sk-toggleable {background-color: white;}#sk-container-id-1 label.sk-toggleable__label {cursor: pointer;display: block;width: 100%;margin-bottom: 0;padding: 0.3em;box-sizing: border-box;text-align: center;}#sk-container-id-1 label.sk-toggleable__label-arrow:before {content: \"▸\";float: left;margin-right: 0.25em;color: #696969;}#sk-container-id-1 label.sk-toggleable__label-arrow:hover:before {color: black;}#sk-container-id-1 div.sk-estimator:hover label.sk-toggleable__label-arrow:before {color: black;}#sk-container-id-1 div.sk-toggleable__content {max-height: 0;max-width: 0;overflow: hidden;text-align: left;background-color: #f0f8ff;}#sk-container-id-1 div.sk-toggleable__content pre {margin: 0.2em;color: black;border-radius: 0.25em;background-color: #f0f8ff;}#sk-container-id-1 input.sk-toggleable__control:checked~div.sk-toggleable__content {max-height: 200px;max-width: 100%;overflow: auto;}#sk-container-id-1 input.sk-toggleable__control:checked~label.sk-toggleable__label-arrow:before {content: \"▾\";}#sk-container-id-1 div.sk-estimator input.sk-toggleable__control:checked~label.sk-toggleable__label {background-color: #d4ebff;}#sk-container-id-1 div.sk-label input.sk-toggleable__control:checked~label.sk-toggleable__label {background-color: #d4ebff;}#sk-container-id-1 input.sk-hidden--visually {border: 0;clip: rect(1px 1px 1px 1px);clip: rect(1px, 1px, 1px, 1px);height: 1px;margin: -1px;overflow: hidden;padding: 0;position: absolute;width: 1px;}#sk-container-id-1 div.sk-estimator {font-family: monospace;background-color: #f0f8ff;border: 1px dotted black;border-radius: 0.25em;box-sizing: border-box;margin-bottom: 0.5em;}#sk-container-id-1 div.sk-estimator:hover {background-color: #d4ebff;}#sk-container-id-1 div.sk-parallel-item::after {content: \"\";width: 100%;border-bottom: 1px solid gray;flex-grow: 1;}#sk-container-id-1 div.sk-label:hover label.sk-toggleable__label {background-color: #d4ebff;}#sk-container-id-1 div.sk-serial::before {content: \"\";position: absolute;border-left: 1px solid gray;box-sizing: border-box;top: 0;bottom: 0;left: 50%;z-index: 0;}#sk-container-id-1 div.sk-serial {display: flex;flex-direction: column;align-items: center;background-color: white;padding-right: 0.2em;padding-left: 0.2em;position: relative;}#sk-container-id-1 div.sk-item {position: relative;z-index: 1;}#sk-container-id-1 div.sk-parallel {display: flex;align-items: stretch;justify-content: center;background-color: white;position: relative;}#sk-container-id-1 div.sk-item::before, #sk-container-id-1 div.sk-parallel-item::before {content: \"\";position: absolute;border-left: 1px solid gray;box-sizing: border-box;top: 0;bottom: 0;left: 50%;z-index: -1;}#sk-container-id-1 div.sk-parallel-item {display: flex;flex-direction: column;z-index: 1;position: relative;background-color: white;}#sk-container-id-1 div.sk-parallel-item:first-child::after {align-self: flex-end;width: 50%;}#sk-container-id-1 div.sk-parallel-item:last-child::after {align-self: flex-start;width: 50%;}#sk-container-id-1 div.sk-parallel-item:only-child::after {width: 0;}#sk-container-id-1 div.sk-dashed-wrapped {border: 1px dashed gray;margin: 0 0.4em 0.5em 0.4em;box-sizing: border-box;padding-bottom: 0.4em;background-color: white;}#sk-container-id-1 div.sk-label label {font-family: monospace;font-weight: bold;display: inline-block;line-height: 1.2em;}#sk-container-id-1 div.sk-label-container {text-align: center;}#sk-container-id-1 div.sk-container {/* jupyter's `normalize.less` sets `[hidden] { display: none; }` but bootstrap.min.css set `[hidden] { display: none !important; }` so we also need the `!important` here to be able to override the default hidden behavior on the sphinx rendered scikit-learn.org. See: https://github.com/scikit-learn/scikit-learn/issues/21755 */display: inline-block !important;position: relative;}#sk-container-id-1 div.sk-text-repr-fallback {display: none;}</style><div id=\"sk-container-id-1\" class=\"sk-top-container\"><div class=\"sk-text-repr-fallback\"><pre>LinearRegression()</pre><b>In a Jupyter environment, please rerun this cell to show the HTML representation or trust the notebook. <br />On GitHub, the HTML representation is unable to render, please try loading this page with nbviewer.org.</b></div><div class=\"sk-container\" hidden><div class=\"sk-item\"><div class=\"sk-estimator sk-toggleable\"><input class=\"sk-toggleable__control sk-hidden--visually\" id=\"sk-estimator-id-1\" type=\"checkbox\" checked><label for=\"sk-estimator-id-1\" class=\"sk-toggleable__label sk-toggleable__label-arrow\">LinearRegression</label><div class=\"sk-toggleable__content\"><pre>LinearRegression()</pre></div></div></div></div></div>"
      ],
      "text/plain": [
       "LinearRegression()"
      ]
     },
     "execution_count": 21,
     "metadata": {},
     "output_type": "execute_result"
    }
   ],
   "source": [
    "# fit the regression object onto the training set\n",
    "regression.fit(X_train, y_train)"
   ]
  },
  {
   "cell_type": "code",
   "execution_count": 22,
   "id": "3894be68",
   "metadata": {},
   "outputs": [],
   "source": [
    "# predict the values of y using X\n",
    "y_predicted = regression.predict(X_test)"
   ]
  },
  {
   "cell_type": "code",
   "execution_count": 27,
   "id": "7c01a178",
   "metadata": {},
   "outputs": [
    {
     "data": {
      "text/plain": [
       "Text(0, 0.5, 'Price')"
      ]
     },
     "execution_count": 27,
     "metadata": {},
     "output_type": "execute_result"
    },
    {
     "data": {
      "image/png": "[encoded data removed]",
      "text/plain": [
       "<Figure size 640x480 with 1 Axes>"
      ]
     },
     "metadata": {},
     "output_type": "display_data"
    }
   ],
   "source": [
    "#creatze a plot showing the regression line from the model on the test set. \n",
    "plot_test = plt\n",
    "plot_test.scatter(X_test, y_test, color = 'limegreen', s = 15)\n",
    "plot_test.plot(X_test, y_predicted, color = 'darkorange', linewidth = 3)\n",
    "plot_test.title('Number of Reviews vs Price (Test set)')\n",
    "plot_test.xlabel('Number of reviews')\n",
    "plot_test.ylabel('Price')"
   ]
  },
  {
   "cell_type": "markdown",
   "id": "db5fe11d",
   "metadata": {},
   "source": [
    "While the line moves in a direction consistent with many of the points, it passes through relatively few of them. The area with the highest density of points ie: with fewer than 100 reviews, shows that the values deviate greatly from the line in both directions. "
   ]
  },
  {
   "cell_type": "code",
   "execution_count": 25,
   "id": "03fa9975",
   "metadata": {},
   "outputs": [],
   "source": [
    "# create objects that contain the model summary stats\n",
    "rmse = mean_squared_error(y_test, y_predicted)\n",
    "r2 = r2_score(y_test, y_predicted)"
   ]
  },
  {
   "cell_type": "code",
   "execution_count": 26,
   "id": "7574c209",
   "metadata": {},
   "outputs": [
    {
     "name": "stdout",
     "output_type": "stream",
     "text": [
      "Slope: [[-0.19166672]]\n",
      "Mean squared error:  8296.613495362995\n",
      "R2 score:  0.009233026986117165\n"
     ]
    }
   ],
   "source": [
    "#Print the summary stats\n",
    "print('Slope:' ,regression.coef_)\n",
    "print('Mean squared error: ', rmse)\n",
    "print('R2 score: ', r2)"
   ]
  },
  {
   "cell_type": "code",
   "execution_count": 28,
   "id": "0b0a672e",
   "metadata": {},
   "outputs": [
    {
     "data": {
      "text/plain": [
       "array([[151.24882682],\n",
       "       [151.44049354],\n",
       "       [134.57382261],\n",
       "       ...,\n",
       "       [152.59049383],\n",
       "       [141.47382435],\n",
       "       [147.79882595]])"
      ]
     },
     "execution_count": 28,
     "metadata": {},
     "output_type": "execute_result"
    }
   ],
   "source": [
    "y_predicted "
   ]
  },
  {
   "cell_type": "code",
   "execution_count": 29,
   "id": "9cfc6905",
   "metadata": {},
   "outputs": [],
   "source": [
    "#create a dataframe to compare y and y_predicted\n",
    "data = pd.DataFrame({'Actual' : y_test.flatten(), 'Predicted' : y_predicted.flatten()})"
   ]
  },
  {
   "cell_type": "code",
   "execution_count": 30,
   "id": "d773d04e",
   "metadata": {},
   "outputs": [
    {
     "data": {
      "text/html": [
       "<div>\n",
       "<style scoped>\n",
       "    .dataframe tbody tr th:only-of-type {\n",
       "        vertical-align: middle;\n",
       "    }\n",
       "\n",
       "    .dataframe tbody tr th {\n",
       "        vertical-align: top;\n",
       "    }\n",
       "\n",
       "    .dataframe thead th {\n",
       "        text-align: right;\n",
       "    }\n",
       "</style>\n",
       "<table border=\"1\" class=\"dataframe\">\n",
       "  <thead>\n",
       "    <tr style=\"text-align: right;\">\n",
       "      <th></th>\n",
       "      <th>Actual</th>\n",
       "      <th>Predicted</th>\n",
       "    </tr>\n",
       "  </thead>\n",
       "  <tbody>\n",
       "    <tr>\n",
       "      <th>0</th>\n",
       "      <td>150.0</td>\n",
       "      <td>151.248827</td>\n",
       "    </tr>\n",
       "    <tr>\n",
       "      <th>1</th>\n",
       "      <td>140.0</td>\n",
       "      <td>151.440494</td>\n",
       "    </tr>\n",
       "    <tr>\n",
       "      <th>2</th>\n",
       "      <td>150.0</td>\n",
       "      <td>134.573823</td>\n",
       "    </tr>\n",
       "    <tr>\n",
       "      <th>3</th>\n",
       "      <td>80.0</td>\n",
       "      <td>143.965492</td>\n",
       "    </tr>\n",
       "    <tr>\n",
       "      <th>4</th>\n",
       "      <td>130.0</td>\n",
       "      <td>152.015494</td>\n",
       "    </tr>\n",
       "    <tr>\n",
       "      <th>5</th>\n",
       "      <td>105.0</td>\n",
       "      <td>147.798826</td>\n",
       "    </tr>\n",
       "    <tr>\n",
       "      <th>6</th>\n",
       "      <td>50.0</td>\n",
       "      <td>152.782161</td>\n",
       "    </tr>\n",
       "    <tr>\n",
       "      <th>7</th>\n",
       "      <td>100.0</td>\n",
       "      <td>151.248827</td>\n",
       "    </tr>\n",
       "    <tr>\n",
       "      <th>8</th>\n",
       "      <td>115.0</td>\n",
       "      <td>127.098821</td>\n",
       "    </tr>\n",
       "    <tr>\n",
       "      <th>9</th>\n",
       "      <td>89.0</td>\n",
       "      <td>152.590494</td>\n",
       "    </tr>\n",
       "    <tr>\n",
       "      <th>10</th>\n",
       "      <td>450.0</td>\n",
       "      <td>152.015494</td>\n",
       "    </tr>\n",
       "    <tr>\n",
       "      <th>11</th>\n",
       "      <td>350.0</td>\n",
       "      <td>148.373826</td>\n",
       "    </tr>\n",
       "    <tr>\n",
       "      <th>12</th>\n",
       "      <td>175.0</td>\n",
       "      <td>147.798826</td>\n",
       "    </tr>\n",
       "    <tr>\n",
       "      <th>13</th>\n",
       "      <td>100.0</td>\n",
       "      <td>151.248827</td>\n",
       "    </tr>\n",
       "    <tr>\n",
       "      <th>14</th>\n",
       "      <td>100.0</td>\n",
       "      <td>152.015494</td>\n",
       "    </tr>\n",
       "    <tr>\n",
       "      <th>15</th>\n",
       "      <td>79.0</td>\n",
       "      <td>152.015494</td>\n",
       "    </tr>\n",
       "    <tr>\n",
       "      <th>16</th>\n",
       "      <td>100.0</td>\n",
       "      <td>149.140493</td>\n",
       "    </tr>\n",
       "    <tr>\n",
       "      <th>17</th>\n",
       "      <td>49.0</td>\n",
       "      <td>148.948826</td>\n",
       "    </tr>\n",
       "    <tr>\n",
       "      <th>18</th>\n",
       "      <td>150.0</td>\n",
       "      <td>148.373826</td>\n",
       "    </tr>\n",
       "    <tr>\n",
       "      <th>19</th>\n",
       "      <td>475.0</td>\n",
       "      <td>147.032159</td>\n",
       "    </tr>\n",
       "  </tbody>\n",
       "</table>\n",
       "</div>"
      ],
      "text/plain": [
       "    Actual   Predicted\n",
       "0    150.0  151.248827\n",
       "1    140.0  151.440494\n",
       "2    150.0  134.573823\n",
       "3     80.0  143.965492\n",
       "4    130.0  152.015494\n",
       "5    105.0  147.798826\n",
       "6     50.0  152.782161\n",
       "7    100.0  151.248827\n",
       "8    115.0  127.098821\n",
       "9     89.0  152.590494\n",
       "10   450.0  152.015494\n",
       "11   350.0  148.373826\n",
       "12   175.0  147.798826\n",
       "13   100.0  151.248827\n",
       "14   100.0  152.015494\n",
       "15    79.0  152.015494\n",
       "16   100.0  149.140493\n",
       "17    49.0  148.948826\n",
       "18   150.0  148.373826\n",
       "19   475.0  147.032159"
      ]
     },
     "execution_count": 30,
     "metadata": {},
     "output_type": "execute_result"
    }
   ],
   "source": [
    "#take a look\n",
    "data.head(20)"
   ]
  },
  {
   "cell_type": "markdown",
   "id": "0ef3dbe1",
   "metadata": {},
   "source": [
    "## 5. Reflections\n",
    "There is clearly a big discrepancy between the actual values and the predicted values. This model cannot accurately predict property price from the number of reviews. "
   ]
  },
  {
   "cell_type": "markdown",
   "id": "9d1d91ce",
   "metadata": {},
   "source": [
    "This data could be biased due to the collection methods of reviews. The number of reviews may not be a good metric to compare properties which have been listed for different amounts of time. \n"
   ]
  },
  {
   "cell_type": "code",
   "execution_count": null,
   "id": "0abe541c",
   "metadata": {},
   "outputs": [],
   "source": []
  }
 ],
 "metadata": {
  "kernelspec": {
   "display_name": "Python 3 (ipykernel)",
   "language": "python",
   "name": "python3"
  },
  "language_info": {
   "codemirror_mode": {
    "name": "ipython",
    "version": 3
   },
   "file_extension": ".py",
   "mimetype": "text/x-python",
   "name": "python",
   "nbconvert_exporter": "python",
   "pygments_lexer": "ipython3",
   "version": "3.11.4"
  }
 },
 "nbformat": 4,
 "nbformat_minor": 5
}
