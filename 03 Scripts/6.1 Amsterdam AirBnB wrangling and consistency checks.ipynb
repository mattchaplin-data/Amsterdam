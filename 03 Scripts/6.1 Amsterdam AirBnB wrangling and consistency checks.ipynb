{
 "cells": [
  {
   "cell_type": "markdown",
   "id": "684c7286",
   "metadata": {},
   "source": [
    "## 01 Import libraries"
   ]
  },
  {
   "cell_type": "code",
   "execution_count": 1,
   "id": "e9481516",
   "metadata": {},
   "outputs": [],
   "source": [
    "#import libraries\n",
    "import pandas as pd\n",
    "import numpy as np\n",
    "import os\n"
   ]
  },
  {
   "cell_type": "markdown",
   "id": "8c1f11da",
   "metadata": {},
   "source": [
    "## 02 Import data"
   ]
  },
  {
   "cell_type": "code",
   "execution_count": 2,
   "id": "80e27eff",
   "metadata": {},
   "outputs": [],
   "source": [
    "#create path\n",
    "path = r\"C:\\Users\\Asus 17\\OneDrive\\Desktop\\Achievement 6\\amsterdam\""
   ]
  },
  {
   "cell_type": "code",
   "execution_count": 3,
   "id": "d2470a50",
   "metadata": {},
   "outputs": [],
   "source": [
    "#import calendar\n",
    "calendar = pd.read_csv(os.path.join(path, '02 Data', 'Original Data', 'calendar.csv'))"
   ]
  },
  {
   "cell_type": "code",
   "execution_count": 4,
   "id": "d5e4d964",
   "metadata": {},
   "outputs": [],
   "source": [
    "#import listings\n",
    "listings = pd.read_csv(os.path.join(path, '02 Data', 'Original Data', 'listings.csv'))"
   ]
  },
  {
   "cell_type": "code",
   "execution_count": 117,
   "id": "0e627c8b",
   "metadata": {},
   "outputs": [],
   "source": [
    "#import listings_details\n",
    "listings_details = pd.read_csv(os.path.join(path, '02 Data', 'Original Data', 'listings_details.csv'), low_memory = False)"
   ]
  },
  {
   "cell_type": "code",
   "execution_count": 6,
   "id": "1a8e0950",
   "metadata": {},
   "outputs": [],
   "source": [
    "#import neighbourhoods\n",
    "neighbourhoods = pd.read_csv(os.path.join(path, '02 Data', 'Original Data', 'neighbourhoods.csv'))"
   ]
  },
  {
   "cell_type": "code",
   "execution_count": 7,
   "id": "c3fdd667",
   "metadata": {},
   "outputs": [],
   "source": [
    "#import reviews\n",
    "reviews = pd.read_csv(os.path.join(path, '02 Data', 'Original Data', 'reviews.csv'))"
   ]
  },
  {
   "cell_type": "code",
   "execution_count": 8,
   "id": "5769a56f",
   "metadata": {},
   "outputs": [],
   "source": [
    "# import reviews_details\n",
    "reviews_details = pd.read_csv(os.path.join(path, '02 Data', 'Original Data', 'reviews_details.csv'))"
   ]
  },
  {
   "cell_type": "markdown",
   "id": "3fa661f6",
   "metadata": {},
   "source": [
    "## 03 Calendar Wrangling"
   ]
  },
  {
   "cell_type": "code",
   "execution_count": 9,
   "id": "bac40da2",
   "metadata": {
    "scrolled": true
   },
   "outputs": [
    {
     "data": {
      "text/plain": [
       "(7310950, 4)"
      ]
     },
     "execution_count": 9,
     "metadata": {},
     "output_type": "execute_result"
    }
   ],
   "source": [
    "#take a look\n",
    "calendar.shape"
   ]
  },
  {
   "cell_type": "code",
   "execution_count": 10,
   "id": "7874657a",
   "metadata": {},
   "outputs": [
    {
     "data": {
      "text/html": [
       "<div>\n",
       "<style scoped>\n",
       "    .dataframe tbody tr th:only-of-type {\n",
       "        vertical-align: middle;\n",
       "    }\n",
       "\n",
       "    .dataframe tbody tr th {\n",
       "        vertical-align: top;\n",
       "    }\n",
       "\n",
       "    .dataframe thead th {\n",
       "        text-align: right;\n",
       "    }\n",
       "</style>\n",
       "<table border=\"1\" class=\"dataframe\">\n",
       "  <thead>\n",
       "    <tr style=\"text-align: right;\">\n",
       "      <th></th>\n",
       "      <th>listing_id</th>\n",
       "      <th>date</th>\n",
       "      <th>available</th>\n",
       "      <th>price</th>\n",
       "    </tr>\n",
       "  </thead>\n",
       "  <tbody>\n",
       "    <tr>\n",
       "      <th>0</th>\n",
       "      <td>2818</td>\n",
       "      <td>2019-12-05</td>\n",
       "      <td>f</td>\n",
       "      <td>NaN</td>\n",
       "    </tr>\n",
       "    <tr>\n",
       "      <th>1</th>\n",
       "      <td>73208</td>\n",
       "      <td>2019-08-30</td>\n",
       "      <td>f</td>\n",
       "      <td>NaN</td>\n",
       "    </tr>\n",
       "    <tr>\n",
       "      <th>2</th>\n",
       "      <td>73208</td>\n",
       "      <td>2019-08-29</td>\n",
       "      <td>f</td>\n",
       "      <td>NaN</td>\n",
       "    </tr>\n",
       "    <tr>\n",
       "      <th>3</th>\n",
       "      <td>73208</td>\n",
       "      <td>2019-08-28</td>\n",
       "      <td>f</td>\n",
       "      <td>NaN</td>\n",
       "    </tr>\n",
       "    <tr>\n",
       "      <th>4</th>\n",
       "      <td>73208</td>\n",
       "      <td>2019-08-27</td>\n",
       "      <td>f</td>\n",
       "      <td>NaN</td>\n",
       "    </tr>\n",
       "  </tbody>\n",
       "</table>\n",
       "</div>"
      ],
      "text/plain": [
       "   listing_id        date available price\n",
       "0        2818  2019-12-05         f   NaN\n",
       "1       73208  2019-08-30         f   NaN\n",
       "2       73208  2019-08-29         f   NaN\n",
       "3       73208  2019-08-28         f   NaN\n",
       "4       73208  2019-08-27         f   NaN"
      ]
     },
     "execution_count": 10,
     "metadata": {},
     "output_type": "execute_result"
    }
   ],
   "source": [
    "calendar.head()"
   ]
  },
  {
   "cell_type": "markdown",
   "id": "1ff3525b",
   "metadata": {},
   "source": [
    "### Find Missing Values"
   ]
  },
  {
   "cell_type": "code",
   "execution_count": 11,
   "id": "8f8d54f2",
   "metadata": {},
   "outputs": [
    {
     "data": {
      "text/plain": [
       "listing_id          0\n",
       "date                0\n",
       "available           0\n",
       "price         6110879\n",
       "dtype: int64"
      ]
     },
     "execution_count": 11,
     "metadata": {},
     "output_type": "execute_result"
    }
   ],
   "source": [
    "# look for null\n",
    "calendar.isnull().sum()"
   ]
  },
  {
   "cell_type": "code",
   "execution_count": 12,
   "id": "8a6bc96c",
   "metadata": {},
   "outputs": [
    {
     "data": {
      "text/plain": [
       "available\n",
       "f    6110879\n",
       "t    1200071\n",
       "Name: count, dtype: int64"
      ]
     },
     "execution_count": 12,
     "metadata": {},
     "output_type": "execute_result"
    }
   ],
   "source": [
    "#check if the nulls correspond to unavailable\n",
    "calendar['available'].value_counts(dropna = False)"
   ]
  },
  {
   "cell_type": "markdown",
   "id": "0a37b6c1",
   "metadata": {},
   "source": [
    "### check for duplicates"
   ]
  },
  {
   "cell_type": "code",
   "execution_count": 13,
   "id": "adeda9a2",
   "metadata": {},
   "outputs": [],
   "source": [
    "# create a subset for calendar dups\n",
    "cal_dups = calendar[calendar.duplicated()]"
   ]
  },
  {
   "cell_type": "code",
   "execution_count": 14,
   "id": "e88a2057",
   "metadata": {},
   "outputs": [
    {
     "data": {
      "text/plain": [
       "(0, 4)"
      ]
     },
     "execution_count": 14,
     "metadata": {},
     "output_type": "execute_result"
    }
   ],
   "source": [
    "#take a look\n",
    "cal_dups.shape"
   ]
  },
  {
   "cell_type": "markdown",
   "id": "4b0d347e",
   "metadata": {},
   "source": [
    "### Check for mixed data types"
   ]
  },
  {
   "cell_type": "code",
   "execution_count": 15,
   "id": "436d5d9e",
   "metadata": {},
   "outputs": [
    {
     "name": "stdout",
     "output_type": "stream",
     "text": [
      "price\n"
     ]
    }
   ],
   "source": [
    "# check for mixed data type columns\n",
    "for col in calendar.columns.tolist():\n",
    "    weird = (calendar[[col]].applymap(type) != calendar[[col]].iloc[0].apply(type)).any(axis=1)\n",
    "    if len (calendar[weird]) > 0:\n",
    "        print (col)"
   ]
  },
  {
   "cell_type": "markdown",
   "id": "15c48c5a",
   "metadata": {},
   "source": [
    "### Take a look at price"
   ]
  },
  {
   "cell_type": "code",
   "execution_count": 16,
   "id": "d5073e2c",
   "metadata": {},
   "outputs": [
    {
     "data": {
      "text/plain": [
       "count     1200071\n",
       "unique       1036\n",
       "top       $150.00\n",
       "freq        51829\n",
       "Name: price, dtype: object"
      ]
     },
     "execution_count": 16,
     "metadata": {},
     "output_type": "execute_result"
    }
   ],
   "source": [
    "calendar['price'].describe()"
   ]
  },
  {
   "cell_type": "code",
   "execution_count": 17,
   "id": "2fd74691",
   "metadata": {},
   "outputs": [
    {
     "data": {
      "text/plain": [
       "price\n",
       "NaN          6110879\n",
       "$150.00        51829\n",
       "$200.00        35048\n",
       "$100.00        34839\n",
       "$250.00        34768\n",
       "              ...   \n",
       "$748.00            1\n",
       "$828.00            1\n",
       "$662.00            1\n",
       "$1,033.00          1\n",
       "$1,804.00          1\n",
       "Name: count, Length: 1037, dtype: int64"
      ]
     },
     "execution_count": 17,
     "metadata": {},
     "output_type": "execute_result"
    }
   ],
   "source": [
    "calendar['price'].value_counts(dropna = False)"
   ]
  },
  {
   "cell_type": "code",
   "execution_count": 18,
   "id": "9c984a14",
   "metadata": {},
   "outputs": [],
   "source": [
    "# remove the $\n",
    "calendar['price'] = calendar['price'].str.extract('(\\d+)', expand = False)"
   ]
  },
  {
   "cell_type": "code",
   "execution_count": 19,
   "id": "777a2f7f",
   "metadata": {},
   "outputs": [
    {
     "data": {
      "text/plain": [
       "price\n",
       "NaN    6110879\n",
       "150      51829\n",
       "200      35048\n",
       "100      34839\n",
       "250      34768\n",
       "        ...   \n",
       "866          1\n",
       "873          1\n",
       "781          1\n",
       "825          1\n",
       "828          1\n",
       "Name: count, Length: 888, dtype: int64"
      ]
     },
     "execution_count": 19,
     "metadata": {},
     "output_type": "execute_result"
    }
   ],
   "source": [
    "calendar['price'].value_counts(dropna = False)"
   ]
  },
  {
   "cell_type": "code",
   "execution_count": 20,
   "id": "917f01c8",
   "metadata": {},
   "outputs": [],
   "source": [
    "# change dtype\n",
    "calendar['price'] = calendar['price'].astype(float)"
   ]
  },
  {
   "cell_type": "code",
   "execution_count": 21,
   "id": "d6742b05",
   "metadata": {},
   "outputs": [
    {
     "data": {
      "text/plain": [
       "count    1.200071e+06\n",
       "mean     1.910672e+02\n",
       "std      1.313657e+02\n",
       "min      1.000000e+00\n",
       "25%      1.060000e+02\n",
       "50%      1.500000e+02\n",
       "75%      2.350000e+02\n",
       "max      9.990000e+02\n",
       "Name: price, dtype: float64"
      ]
     },
     "execution_count": 21,
     "metadata": {},
     "output_type": "execute_result"
    }
   ],
   "source": [
    "#try describe again\n",
    "calendar['price'].describe()"
   ]
  },
  {
   "cell_type": "code",
   "execution_count": 22,
   "id": "5477dff7",
   "metadata": {},
   "outputs": [
    {
     "data": {
      "text/plain": [
       "listing_id      int64\n",
       "date           object\n",
       "available      object\n",
       "price         float64\n",
       "dtype: object"
      ]
     },
     "execution_count": 22,
     "metadata": {},
     "output_type": "execute_result"
    }
   ],
   "source": [
    "calendar.dtypes"
   ]
  },
  {
   "cell_type": "markdown",
   "id": "186cb531",
   "metadata": {},
   "source": [
    "### export wrangled calendar"
   ]
  },
  {
   "cell_type": "code",
   "execution_count": 23,
   "id": "6137434d",
   "metadata": {},
   "outputs": [],
   "source": [
    "#export calendar_wrangled\n",
    "calendar.to_csv(os.path.join(path, '02 Data', 'Prepared Data', 'calendar_wrangled.csv'))"
   ]
  },
  {
   "cell_type": "markdown",
   "id": "e3fed145",
   "metadata": {},
   "source": [
    "## 04 listings wrangling"
   ]
  },
  {
   "cell_type": "code",
   "execution_count": 24,
   "id": "6aaeda9e",
   "metadata": {},
   "outputs": [
    {
     "data": {
      "text/plain": [
       "(20030, 16)"
      ]
     },
     "execution_count": 24,
     "metadata": {},
     "output_type": "execute_result"
    }
   ],
   "source": [
    "#take a look at listings\n",
    "listings.shape"
   ]
  },
  {
   "cell_type": "code",
   "execution_count": 25,
   "id": "5c79257f",
   "metadata": {
    "scrolled": true
   },
   "outputs": [
    {
     "data": {
      "text/html": [
       "<div>\n",
       "<style scoped>\n",
       "    .dataframe tbody tr th:only-of-type {\n",
       "        vertical-align: middle;\n",
       "    }\n",
       "\n",
       "    .dataframe tbody tr th {\n",
       "        vertical-align: top;\n",
       "    }\n",
       "\n",
       "    .dataframe thead th {\n",
       "        text-align: right;\n",
       "    }\n",
       "</style>\n",
       "<table border=\"1\" class=\"dataframe\">\n",
       "  <thead>\n",
       "    <tr style=\"text-align: right;\">\n",
       "      <th></th>\n",
       "      <th>id</th>\n",
       "      <th>name</th>\n",
       "      <th>host_id</th>\n",
       "      <th>host_name</th>\n",
       "      <th>neighbourhood_group</th>\n",
       "      <th>neighbourhood</th>\n",
       "      <th>latitude</th>\n",
       "      <th>longitude</th>\n",
       "      <th>room_type</th>\n",
       "      <th>price</th>\n",
       "      <th>minimum_nights</th>\n",
       "      <th>number_of_reviews</th>\n",
       "      <th>last_review</th>\n",
       "      <th>reviews_per_month</th>\n",
       "      <th>calculated_host_listings_count</th>\n",
       "      <th>availability_365</th>\n",
       "    </tr>\n",
       "  </thead>\n",
       "  <tbody>\n",
       "    <tr>\n",
       "      <th>0</th>\n",
       "      <td>2818</td>\n",
       "      <td>Quiet Garden View Room &amp; Super Fast WiFi</td>\n",
       "      <td>3159</td>\n",
       "      <td>Daniel</td>\n",
       "      <td>NaN</td>\n",
       "      <td>Oostelijk Havengebied - Indische Buurt</td>\n",
       "      <td>52.365755</td>\n",
       "      <td>4.941419</td>\n",
       "      <td>Private room</td>\n",
       "      <td>59</td>\n",
       "      <td>3</td>\n",
       "      <td>248</td>\n",
       "      <td>2018-11-28</td>\n",
       "      <td>2.10</td>\n",
       "      <td>1</td>\n",
       "      <td>44</td>\n",
       "    </tr>\n",
       "    <tr>\n",
       "      <th>1</th>\n",
       "      <td>3209</td>\n",
       "      <td>Quiet apt near center, great view</td>\n",
       "      <td>3806</td>\n",
       "      <td>Maartje</td>\n",
       "      <td>NaN</td>\n",
       "      <td>Westerpark</td>\n",
       "      <td>52.390225</td>\n",
       "      <td>4.873924</td>\n",
       "      <td>Entire home/apt</td>\n",
       "      <td>160</td>\n",
       "      <td>4</td>\n",
       "      <td>42</td>\n",
       "      <td>2018-08-29</td>\n",
       "      <td>1.03</td>\n",
       "      <td>1</td>\n",
       "      <td>47</td>\n",
       "    </tr>\n",
       "    <tr>\n",
       "      <th>2</th>\n",
       "      <td>20168</td>\n",
       "      <td>100%Centre-Studio 1 Private Floor/Bathroom</td>\n",
       "      <td>59484</td>\n",
       "      <td>Alex</td>\n",
       "      <td>NaN</td>\n",
       "      <td>Centrum-Oost</td>\n",
       "      <td>52.365087</td>\n",
       "      <td>4.893541</td>\n",
       "      <td>Entire home/apt</td>\n",
       "      <td>80</td>\n",
       "      <td>1</td>\n",
       "      <td>233</td>\n",
       "      <td>2018-11-30</td>\n",
       "      <td>2.18</td>\n",
       "      <td>2</td>\n",
       "      <td>198</td>\n",
       "    </tr>\n",
       "    <tr>\n",
       "      <th>3</th>\n",
       "      <td>25428</td>\n",
       "      <td>Lovely apt in City Centre (Jordaan)</td>\n",
       "      <td>56142</td>\n",
       "      <td>Joan</td>\n",
       "      <td>NaN</td>\n",
       "      <td>Centrum-West</td>\n",
       "      <td>52.373114</td>\n",
       "      <td>4.883668</td>\n",
       "      <td>Entire home/apt</td>\n",
       "      <td>125</td>\n",
       "      <td>14</td>\n",
       "      <td>1</td>\n",
       "      <td>2018-01-21</td>\n",
       "      <td>0.09</td>\n",
       "      <td>2</td>\n",
       "      <td>141</td>\n",
       "    </tr>\n",
       "    <tr>\n",
       "      <th>4</th>\n",
       "      <td>27886</td>\n",
       "      <td>Romantic, stylish B&amp;B houseboat in canal district</td>\n",
       "      <td>97647</td>\n",
       "      <td>Flip</td>\n",
       "      <td>NaN</td>\n",
       "      <td>Centrum-West</td>\n",
       "      <td>52.386727</td>\n",
       "      <td>4.892078</td>\n",
       "      <td>Private room</td>\n",
       "      <td>150</td>\n",
       "      <td>2</td>\n",
       "      <td>171</td>\n",
       "      <td>2018-11-25</td>\n",
       "      <td>2.03</td>\n",
       "      <td>1</td>\n",
       "      <td>199</td>\n",
       "    </tr>\n",
       "  </tbody>\n",
       "</table>\n",
       "</div>"
      ],
      "text/plain": [
       "      id                                               name  host_id  \\\n",
       "0   2818           Quiet Garden View Room & Super Fast WiFi     3159   \n",
       "1   3209                  Quiet apt near center, great view     3806   \n",
       "2  20168         100%Centre-Studio 1 Private Floor/Bathroom    59484   \n",
       "3  25428                Lovely apt in City Centre (Jordaan)    56142   \n",
       "4  27886  Romantic, stylish B&B houseboat in canal district    97647   \n",
       "\n",
       "  host_name  neighbourhood_group                           neighbourhood  \\\n",
       "0    Daniel                  NaN  Oostelijk Havengebied - Indische Buurt   \n",
       "1   Maartje                  NaN                              Westerpark   \n",
       "2      Alex                  NaN                            Centrum-Oost   \n",
       "3      Joan                  NaN                            Centrum-West   \n",
       "4      Flip                  NaN                            Centrum-West   \n",
       "\n",
       "    latitude  longitude        room_type  price  minimum_nights  \\\n",
       "0  52.365755   4.941419     Private room     59               3   \n",
       "1  52.390225   4.873924  Entire home/apt    160               4   \n",
       "2  52.365087   4.893541  Entire home/apt     80               1   \n",
       "3  52.373114   4.883668  Entire home/apt    125              14   \n",
       "4  52.386727   4.892078     Private room    150               2   \n",
       "\n",
       "   number_of_reviews last_review  reviews_per_month  \\\n",
       "0                248  2018-11-28               2.10   \n",
       "1                 42  2018-08-29               1.03   \n",
       "2                233  2018-11-30               2.18   \n",
       "3                  1  2018-01-21               0.09   \n",
       "4                171  2018-11-25               2.03   \n",
       "\n",
       "   calculated_host_listings_count  availability_365  \n",
       "0                               1                44  \n",
       "1                               1                47  \n",
       "2                               2               198  \n",
       "3                               2               141  \n",
       "4                               1               199  "
      ]
     },
     "execution_count": 25,
     "metadata": {},
     "output_type": "execute_result"
    }
   ],
   "source": [
    "listings.head()"
   ]
  },
  {
   "cell_type": "code",
   "execution_count": 26,
   "id": "50c14783",
   "metadata": {},
   "outputs": [
    {
     "data": {
      "text/plain": [
       "Index(['id', 'name', 'host_id', 'host_name', 'neighbourhood_group',\n",
       "       'neighbourhood', 'latitude', 'longitude', 'room_type', 'price',\n",
       "       'minimum_nights', 'number_of_reviews', 'last_review',\n",
       "       'reviews_per_month', 'calculated_host_listings_count',\n",
       "       'availability_365'],\n",
       "      dtype='object')"
      ]
     },
     "execution_count": 26,
     "metadata": {},
     "output_type": "execute_result"
    }
   ],
   "source": [
    "listings.columns"
   ]
  },
  {
   "cell_type": "code",
   "execution_count": 27,
   "id": "0fa47cf3",
   "metadata": {},
   "outputs": [
    {
     "data": {
      "text/html": [
       "<div>\n",
       "<style scoped>\n",
       "    .dataframe tbody tr th:only-of-type {\n",
       "        vertical-align: middle;\n",
       "    }\n",
       "\n",
       "    .dataframe tbody tr th {\n",
       "        vertical-align: top;\n",
       "    }\n",
       "\n",
       "    .dataframe thead th {\n",
       "        text-align: right;\n",
       "    }\n",
       "</style>\n",
       "<table border=\"1\" class=\"dataframe\">\n",
       "  <thead>\n",
       "    <tr style=\"text-align: right;\">\n",
       "      <th></th>\n",
       "      <th>id</th>\n",
       "      <th>host_id</th>\n",
       "      <th>neighbourhood_group</th>\n",
       "      <th>latitude</th>\n",
       "      <th>longitude</th>\n",
       "      <th>price</th>\n",
       "      <th>minimum_nights</th>\n",
       "      <th>number_of_reviews</th>\n",
       "      <th>reviews_per_month</th>\n",
       "      <th>calculated_host_listings_count</th>\n",
       "      <th>availability_365</th>\n",
       "    </tr>\n",
       "  </thead>\n",
       "  <tbody>\n",
       "    <tr>\n",
       "      <th>count</th>\n",
       "      <td>2.003000e+04</td>\n",
       "      <td>2.003000e+04</td>\n",
       "      <td>0.0</td>\n",
       "      <td>20030.000000</td>\n",
       "      <td>20030.000000</td>\n",
       "      <td>20030.000000</td>\n",
       "      <td>20030.000000</td>\n",
       "      <td>20030.000000</td>\n",
       "      <td>17624.00000</td>\n",
       "      <td>20030.000000</td>\n",
       "      <td>20030.000000</td>\n",
       "    </tr>\n",
       "    <tr>\n",
       "      <th>mean</th>\n",
       "      <td>1.541725e+07</td>\n",
       "      <td>4.868570e+07</td>\n",
       "      <td>NaN</td>\n",
       "      <td>52.365212</td>\n",
       "      <td>4.888977</td>\n",
       "      <td>152.181178</td>\n",
       "      <td>3.328707</td>\n",
       "      <td>21.560459</td>\n",
       "      <td>1.06208</td>\n",
       "      <td>4.734698</td>\n",
       "      <td>59.913679</td>\n",
       "    </tr>\n",
       "    <tr>\n",
       "      <th>std</th>\n",
       "      <td>8.569404e+06</td>\n",
       "      <td>5.649635e+07</td>\n",
       "      <td>NaN</td>\n",
       "      <td>0.015996</td>\n",
       "      <td>0.035573</td>\n",
       "      <td>145.828976</td>\n",
       "      <td>12.537419</td>\n",
       "      <td>43.240292</td>\n",
       "      <td>1.33332</td>\n",
       "      <td>22.921886</td>\n",
       "      <td>104.027710</td>\n",
       "    </tr>\n",
       "    <tr>\n",
       "      <th>min</th>\n",
       "      <td>2.818000e+03</td>\n",
       "      <td>3.159000e+03</td>\n",
       "      <td>NaN</td>\n",
       "      <td>52.288378</td>\n",
       "      <td>4.753247</td>\n",
       "      <td>0.000000</td>\n",
       "      <td>1.000000</td>\n",
       "      <td>0.000000</td>\n",
       "      <td>0.01000</td>\n",
       "      <td>1.000000</td>\n",
       "      <td>0.000000</td>\n",
       "    </tr>\n",
       "    <tr>\n",
       "      <th>25%</th>\n",
       "      <td>8.188423e+06</td>\n",
       "      <td>8.093516e+06</td>\n",
       "      <td>NaN</td>\n",
       "      <td>52.355126</td>\n",
       "      <td>4.863595</td>\n",
       "      <td>96.000000</td>\n",
       "      <td>2.000000</td>\n",
       "      <td>3.000000</td>\n",
       "      <td>0.27000</td>\n",
       "      <td>1.000000</td>\n",
       "      <td>0.000000</td>\n",
       "    </tr>\n",
       "    <tr>\n",
       "      <th>50%</th>\n",
       "      <td>1.563049e+07</td>\n",
       "      <td>2.369450e+07</td>\n",
       "      <td>NaN</td>\n",
       "      <td>52.364590</td>\n",
       "      <td>4.886387</td>\n",
       "      <td>125.000000</td>\n",
       "      <td>2.000000</td>\n",
       "      <td>8.000000</td>\n",
       "      <td>0.62000</td>\n",
       "      <td>1.000000</td>\n",
       "      <td>3.000000</td>\n",
       "    </tr>\n",
       "    <tr>\n",
       "      <th>75%</th>\n",
       "      <td>2.202577e+07</td>\n",
       "      <td>6.827535e+07</td>\n",
       "      <td>NaN</td>\n",
       "      <td>52.375074</td>\n",
       "      <td>4.908288</td>\n",
       "      <td>175.000000</td>\n",
       "      <td>3.000000</td>\n",
       "      <td>22.000000</td>\n",
       "      <td>1.23000</td>\n",
       "      <td>1.000000</td>\n",
       "      <td>67.000000</td>\n",
       "    </tr>\n",
       "    <tr>\n",
       "      <th>max</th>\n",
       "      <td>3.058041e+07</td>\n",
       "      <td>2.293612e+08</td>\n",
       "      <td>NaN</td>\n",
       "      <td>52.424713</td>\n",
       "      <td>5.027689</td>\n",
       "      <td>8500.000000</td>\n",
       "      <td>1001.000000</td>\n",
       "      <td>695.000000</td>\n",
       "      <td>11.85000</td>\n",
       "      <td>208.000000</td>\n",
       "      <td>365.000000</td>\n",
       "    </tr>\n",
       "  </tbody>\n",
       "</table>\n",
       "</div>"
      ],
      "text/plain": [
       "                 id       host_id  neighbourhood_group      latitude  \\\n",
       "count  2.003000e+04  2.003000e+04                  0.0  20030.000000   \n",
       "mean   1.541725e+07  4.868570e+07                  NaN     52.365212   \n",
       "std    8.569404e+06  5.649635e+07                  NaN      0.015996   \n",
       "min    2.818000e+03  3.159000e+03                  NaN     52.288378   \n",
       "25%    8.188423e+06  8.093516e+06                  NaN     52.355126   \n",
       "50%    1.563049e+07  2.369450e+07                  NaN     52.364590   \n",
       "75%    2.202577e+07  6.827535e+07                  NaN     52.375074   \n",
       "max    3.058041e+07  2.293612e+08                  NaN     52.424713   \n",
       "\n",
       "          longitude         price  minimum_nights  number_of_reviews  \\\n",
       "count  20030.000000  20030.000000    20030.000000       20030.000000   \n",
       "mean       4.888977    152.181178        3.328707          21.560459   \n",
       "std        0.035573    145.828976       12.537419          43.240292   \n",
       "min        4.753247      0.000000        1.000000           0.000000   \n",
       "25%        4.863595     96.000000        2.000000           3.000000   \n",
       "50%        4.886387    125.000000        2.000000           8.000000   \n",
       "75%        4.908288    175.000000        3.000000          22.000000   \n",
       "max        5.027689   8500.000000     1001.000000         695.000000   \n",
       "\n",
       "       reviews_per_month  calculated_host_listings_count  availability_365  \n",
       "count        17624.00000                    20030.000000      20030.000000  \n",
       "mean             1.06208                        4.734698         59.913679  \n",
       "std              1.33332                       22.921886        104.027710  \n",
       "min              0.01000                        1.000000          0.000000  \n",
       "25%              0.27000                        1.000000          0.000000  \n",
       "50%              0.62000                        1.000000          3.000000  \n",
       "75%              1.23000                        1.000000         67.000000  \n",
       "max             11.85000                      208.000000        365.000000  "
      ]
     },
     "execution_count": 27,
     "metadata": {},
     "output_type": "execute_result"
    }
   ],
   "source": [
    "listings.describe()"
   ]
  },
  {
   "cell_type": "markdown",
   "id": "e4c964c1",
   "metadata": {},
   "source": [
    "### Look for Missing Values"
   ]
  },
  {
   "cell_type": "code",
   "execution_count": 28,
   "id": "2c69abc9",
   "metadata": {},
   "outputs": [
    {
     "data": {
      "text/plain": [
       "id                                    0\n",
       "name                                 38\n",
       "host_id                               0\n",
       "host_name                             4\n",
       "neighbourhood_group               20030\n",
       "neighbourhood                         0\n",
       "latitude                              0\n",
       "longitude                             0\n",
       "room_type                             0\n",
       "price                                 0\n",
       "minimum_nights                        0\n",
       "number_of_reviews                     0\n",
       "last_review                        2406\n",
       "reviews_per_month                  2406\n",
       "calculated_host_listings_count        0\n",
       "availability_365                      0\n",
       "dtype: int64"
      ]
     },
     "execution_count": 28,
     "metadata": {},
     "output_type": "execute_result"
    }
   ],
   "source": [
    "# check for nulls\n",
    "listings.isnull().sum()"
   ]
  },
  {
   "cell_type": "code",
   "execution_count": 29,
   "id": "c2bdc70e",
   "metadata": {},
   "outputs": [
    {
     "data": {
      "text/plain": [
       "neighbourhood_group\n",
       "NaN    20030\n",
       "Name: count, dtype: int64"
      ]
     },
     "execution_count": 29,
     "metadata": {},
     "output_type": "execute_result"
    }
   ],
   "source": [
    "listings['neighbourhood_group'].value_counts(dropna = False)"
   ]
  },
  {
   "cell_type": "code",
   "execution_count": 30,
   "id": "7f077482",
   "metadata": {},
   "outputs": [],
   "source": [
    "# drop unnecessary columns\n",
    "listings = listings.drop(columns = ['host_name', 'neighbourhood_group'])"
   ]
  },
  {
   "cell_type": "markdown",
   "id": "f1b6c393",
   "metadata": {},
   "source": [
    "### Check for Duplicates"
   ]
  },
  {
   "cell_type": "code",
   "execution_count": 31,
   "id": "18d9f2f9",
   "metadata": {},
   "outputs": [],
   "source": [
    "# create a subset for listings dups\n",
    "list_dups = listings[listings.duplicated()]"
   ]
  },
  {
   "cell_type": "code",
   "execution_count": 32,
   "id": "54b934c4",
   "metadata": {},
   "outputs": [
    {
     "data": {
      "text/plain": [
       "(0, 14)"
      ]
     },
     "execution_count": 32,
     "metadata": {},
     "output_type": "execute_result"
    }
   ],
   "source": [
    "#take a look\n",
    "list_dups.shape"
   ]
  },
  {
   "cell_type": "markdown",
   "id": "ca1f1595",
   "metadata": {},
   "source": [
    "### Check for mixed dtypes"
   ]
  },
  {
   "cell_type": "code",
   "execution_count": 33,
   "id": "9fdf5ef3",
   "metadata": {},
   "outputs": [
    {
     "name": "stdout",
     "output_type": "stream",
     "text": [
      "name\n",
      "last_review\n"
     ]
    }
   ],
   "source": [
    "# check for mixed data type columns\n",
    "for col in listings.columns.tolist():\n",
    "    weird = (listings[[col]].applymap(type) != listings[[col]].iloc[0].apply(type)).any(axis=1)\n",
    "    if len (listings[weird]) > 0:\n",
    "        print (col)"
   ]
  },
  {
   "cell_type": "code",
   "execution_count": 34,
   "id": "9c07686f",
   "metadata": {},
   "outputs": [],
   "source": [
    "# change dtype\n",
    "listings['name'] = listings['name'].astype(str)\n"
   ]
  },
  {
   "cell_type": "code",
   "execution_count": 35,
   "id": "8001377a",
   "metadata": {},
   "outputs": [],
   "source": [
    "listings['last_review'] = listings['last_review'].astype(str)\n"
   ]
  },
  {
   "cell_type": "code",
   "execution_count": 36,
   "id": "f6b2e32b",
   "metadata": {},
   "outputs": [],
   "source": [
    "#check again\n",
    "for col in listings.columns.tolist():\n",
    "    weird = (listings[[col]].applymap(type) != listings[[col]].iloc[0].apply(type)).any(axis=1)\n",
    "    if len (listings[weird]) > 0:\n",
    "        print (col)"
   ]
  },
  {
   "cell_type": "markdown",
   "id": "604be765",
   "metadata": {},
   "source": [
    "### Export updated listings\n"
   ]
  },
  {
   "cell_type": "code",
   "execution_count": 37,
   "id": "a2b8d31d",
   "metadata": {},
   "outputs": [],
   "source": [
    "listings.to_csv(os.path.join(path, '02 Data', 'Prepared Data', 'listings_wrangled.csv'))"
   ]
  },
  {
   "cell_type": "markdown",
   "id": "d1c2d5e8",
   "metadata": {},
   "source": [
    "## 05 Neighbourhood wrangling"
   ]
  },
  {
   "cell_type": "code",
   "execution_count": 38,
   "id": "e23c3934",
   "metadata": {},
   "outputs": [
    {
     "data": {
      "text/plain": [
       "(22, 2)"
      ]
     },
     "execution_count": 38,
     "metadata": {},
     "output_type": "execute_result"
    }
   ],
   "source": [
    "# take a look at neighbourhoods\n",
    "neighbourhoods.shape"
   ]
  },
  {
   "cell_type": "code",
   "execution_count": 39,
   "id": "82f29471",
   "metadata": {},
   "outputs": [
    {
     "data": {
      "text/html": [
       "<div>\n",
       "<style scoped>\n",
       "    .dataframe tbody tr th:only-of-type {\n",
       "        vertical-align: middle;\n",
       "    }\n",
       "\n",
       "    .dataframe tbody tr th {\n",
       "        vertical-align: top;\n",
       "    }\n",
       "\n",
       "    .dataframe thead th {\n",
       "        text-align: right;\n",
       "    }\n",
       "</style>\n",
       "<table border=\"1\" class=\"dataframe\">\n",
       "  <thead>\n",
       "    <tr style=\"text-align: right;\">\n",
       "      <th></th>\n",
       "      <th>neighbourhood_group</th>\n",
       "      <th>neighbourhood</th>\n",
       "    </tr>\n",
       "  </thead>\n",
       "  <tbody>\n",
       "    <tr>\n",
       "      <th>0</th>\n",
       "      <td>NaN</td>\n",
       "      <td>Bijlmer-Centrum</td>\n",
       "    </tr>\n",
       "    <tr>\n",
       "      <th>1</th>\n",
       "      <td>NaN</td>\n",
       "      <td>Bijlmer-Oost</td>\n",
       "    </tr>\n",
       "    <tr>\n",
       "      <th>2</th>\n",
       "      <td>NaN</td>\n",
       "      <td>Bos en Lommer</td>\n",
       "    </tr>\n",
       "    <tr>\n",
       "      <th>3</th>\n",
       "      <td>NaN</td>\n",
       "      <td>Buitenveldert - Zuidas</td>\n",
       "    </tr>\n",
       "    <tr>\n",
       "      <th>4</th>\n",
       "      <td>NaN</td>\n",
       "      <td>Centrum-Oost</td>\n",
       "    </tr>\n",
       "    <tr>\n",
       "      <th>5</th>\n",
       "      <td>NaN</td>\n",
       "      <td>Centrum-West</td>\n",
       "    </tr>\n",
       "    <tr>\n",
       "      <th>6</th>\n",
       "      <td>NaN</td>\n",
       "      <td>De Aker - Nieuw Sloten</td>\n",
       "    </tr>\n",
       "    <tr>\n",
       "      <th>7</th>\n",
       "      <td>NaN</td>\n",
       "      <td>De Baarsjes - Oud-West</td>\n",
       "    </tr>\n",
       "    <tr>\n",
       "      <th>8</th>\n",
       "      <td>NaN</td>\n",
       "      <td>De Pijp - Rivierenbuurt</td>\n",
       "    </tr>\n",
       "    <tr>\n",
       "      <th>9</th>\n",
       "      <td>NaN</td>\n",
       "      <td>Gaasperdam - Driemond</td>\n",
       "    </tr>\n",
       "    <tr>\n",
       "      <th>10</th>\n",
       "      <td>NaN</td>\n",
       "      <td>Geuzenveld - Slotermeer</td>\n",
       "    </tr>\n",
       "    <tr>\n",
       "      <th>11</th>\n",
       "      <td>NaN</td>\n",
       "      <td>IJburg - Zeeburgereiland</td>\n",
       "    </tr>\n",
       "    <tr>\n",
       "      <th>12</th>\n",
       "      <td>NaN</td>\n",
       "      <td>Noord-Oost</td>\n",
       "    </tr>\n",
       "    <tr>\n",
       "      <th>13</th>\n",
       "      <td>NaN</td>\n",
       "      <td>Noord-West</td>\n",
       "    </tr>\n",
       "    <tr>\n",
       "      <th>14</th>\n",
       "      <td>NaN</td>\n",
       "      <td>Oostelijk Havengebied - Indische Buurt</td>\n",
       "    </tr>\n",
       "    <tr>\n",
       "      <th>15</th>\n",
       "      <td>NaN</td>\n",
       "      <td>Osdorp</td>\n",
       "    </tr>\n",
       "    <tr>\n",
       "      <th>16</th>\n",
       "      <td>NaN</td>\n",
       "      <td>Oud-Noord</td>\n",
       "    </tr>\n",
       "    <tr>\n",
       "      <th>17</th>\n",
       "      <td>NaN</td>\n",
       "      <td>Oud-Oost</td>\n",
       "    </tr>\n",
       "    <tr>\n",
       "      <th>18</th>\n",
       "      <td>NaN</td>\n",
       "      <td>Slotervaart</td>\n",
       "    </tr>\n",
       "    <tr>\n",
       "      <th>19</th>\n",
       "      <td>NaN</td>\n",
       "      <td>Watergraafsmeer</td>\n",
       "    </tr>\n",
       "    <tr>\n",
       "      <th>20</th>\n",
       "      <td>NaN</td>\n",
       "      <td>Westerpark</td>\n",
       "    </tr>\n",
       "    <tr>\n",
       "      <th>21</th>\n",
       "      <td>NaN</td>\n",
       "      <td>Zuid</td>\n",
       "    </tr>\n",
       "  </tbody>\n",
       "</table>\n",
       "</div>"
      ],
      "text/plain": [
       "    neighbourhood_group                           neighbourhood\n",
       "0                   NaN                         Bijlmer-Centrum\n",
       "1                   NaN                            Bijlmer-Oost\n",
       "2                   NaN                           Bos en Lommer\n",
       "3                   NaN                  Buitenveldert - Zuidas\n",
       "4                   NaN                            Centrum-Oost\n",
       "5                   NaN                            Centrum-West\n",
       "6                   NaN                  De Aker - Nieuw Sloten\n",
       "7                   NaN                  De Baarsjes - Oud-West\n",
       "8                   NaN                 De Pijp - Rivierenbuurt\n",
       "9                   NaN                   Gaasperdam - Driemond\n",
       "10                  NaN                 Geuzenveld - Slotermeer\n",
       "11                  NaN                IJburg - Zeeburgereiland\n",
       "12                  NaN                              Noord-Oost\n",
       "13                  NaN                              Noord-West\n",
       "14                  NaN  Oostelijk Havengebied - Indische Buurt\n",
       "15                  NaN                                  Osdorp\n",
       "16                  NaN                               Oud-Noord\n",
       "17                  NaN                                Oud-Oost\n",
       "18                  NaN                             Slotervaart\n",
       "19                  NaN                         Watergraafsmeer\n",
       "20                  NaN                              Westerpark\n",
       "21                  NaN                                    Zuid"
      ]
     },
     "execution_count": 39,
     "metadata": {},
     "output_type": "execute_result"
    }
   ],
   "source": [
    "neighbourhoods"
   ]
  },
  {
   "cell_type": "code",
   "execution_count": 40,
   "id": "018bdb07",
   "metadata": {},
   "outputs": [],
   "source": [
    "# drop column\n",
    "neighbourhoods = neighbourhoods.drop(columns = ['neighbourhood_group'])"
   ]
  },
  {
   "cell_type": "code",
   "execution_count": 41,
   "id": "ad79b81d",
   "metadata": {},
   "outputs": [
    {
     "data": {
      "text/html": [
       "<div>\n",
       "<style scoped>\n",
       "    .dataframe tbody tr th:only-of-type {\n",
       "        vertical-align: middle;\n",
       "    }\n",
       "\n",
       "    .dataframe tbody tr th {\n",
       "        vertical-align: top;\n",
       "    }\n",
       "\n",
       "    .dataframe thead th {\n",
       "        text-align: right;\n",
       "    }\n",
       "</style>\n",
       "<table border=\"1\" class=\"dataframe\">\n",
       "  <thead>\n",
       "    <tr style=\"text-align: right;\">\n",
       "      <th></th>\n",
       "      <th>neighbourhood</th>\n",
       "    </tr>\n",
       "  </thead>\n",
       "  <tbody>\n",
       "    <tr>\n",
       "      <th>0</th>\n",
       "      <td>Bijlmer-Centrum</td>\n",
       "    </tr>\n",
       "    <tr>\n",
       "      <th>1</th>\n",
       "      <td>Bijlmer-Oost</td>\n",
       "    </tr>\n",
       "    <tr>\n",
       "      <th>2</th>\n",
       "      <td>Bos en Lommer</td>\n",
       "    </tr>\n",
       "    <tr>\n",
       "      <th>3</th>\n",
       "      <td>Buitenveldert - Zuidas</td>\n",
       "    </tr>\n",
       "    <tr>\n",
       "      <th>4</th>\n",
       "      <td>Centrum-Oost</td>\n",
       "    </tr>\n",
       "    <tr>\n",
       "      <th>5</th>\n",
       "      <td>Centrum-West</td>\n",
       "    </tr>\n",
       "    <tr>\n",
       "      <th>6</th>\n",
       "      <td>De Aker - Nieuw Sloten</td>\n",
       "    </tr>\n",
       "    <tr>\n",
       "      <th>7</th>\n",
       "      <td>De Baarsjes - Oud-West</td>\n",
       "    </tr>\n",
       "    <tr>\n",
       "      <th>8</th>\n",
       "      <td>De Pijp - Rivierenbuurt</td>\n",
       "    </tr>\n",
       "    <tr>\n",
       "      <th>9</th>\n",
       "      <td>Gaasperdam - Driemond</td>\n",
       "    </tr>\n",
       "    <tr>\n",
       "      <th>10</th>\n",
       "      <td>Geuzenveld - Slotermeer</td>\n",
       "    </tr>\n",
       "    <tr>\n",
       "      <th>11</th>\n",
       "      <td>IJburg - Zeeburgereiland</td>\n",
       "    </tr>\n",
       "    <tr>\n",
       "      <th>12</th>\n",
       "      <td>Noord-Oost</td>\n",
       "    </tr>\n",
       "    <tr>\n",
       "      <th>13</th>\n",
       "      <td>Noord-West</td>\n",
       "    </tr>\n",
       "    <tr>\n",
       "      <th>14</th>\n",
       "      <td>Oostelijk Havengebied - Indische Buurt</td>\n",
       "    </tr>\n",
       "    <tr>\n",
       "      <th>15</th>\n",
       "      <td>Osdorp</td>\n",
       "    </tr>\n",
       "    <tr>\n",
       "      <th>16</th>\n",
       "      <td>Oud-Noord</td>\n",
       "    </tr>\n",
       "    <tr>\n",
       "      <th>17</th>\n",
       "      <td>Oud-Oost</td>\n",
       "    </tr>\n",
       "    <tr>\n",
       "      <th>18</th>\n",
       "      <td>Slotervaart</td>\n",
       "    </tr>\n",
       "    <tr>\n",
       "      <th>19</th>\n",
       "      <td>Watergraafsmeer</td>\n",
       "    </tr>\n",
       "    <tr>\n",
       "      <th>20</th>\n",
       "      <td>Westerpark</td>\n",
       "    </tr>\n",
       "    <tr>\n",
       "      <th>21</th>\n",
       "      <td>Zuid</td>\n",
       "    </tr>\n",
       "  </tbody>\n",
       "</table>\n",
       "</div>"
      ],
      "text/plain": [
       "                             neighbourhood\n",
       "0                          Bijlmer-Centrum\n",
       "1                             Bijlmer-Oost\n",
       "2                            Bos en Lommer\n",
       "3                   Buitenveldert - Zuidas\n",
       "4                             Centrum-Oost\n",
       "5                             Centrum-West\n",
       "6                   De Aker - Nieuw Sloten\n",
       "7                   De Baarsjes - Oud-West\n",
       "8                  De Pijp - Rivierenbuurt\n",
       "9                    Gaasperdam - Driemond\n",
       "10                 Geuzenveld - Slotermeer\n",
       "11                IJburg - Zeeburgereiland\n",
       "12                              Noord-Oost\n",
       "13                              Noord-West\n",
       "14  Oostelijk Havengebied - Indische Buurt\n",
       "15                                  Osdorp\n",
       "16                               Oud-Noord\n",
       "17                                Oud-Oost\n",
       "18                             Slotervaart\n",
       "19                         Watergraafsmeer\n",
       "20                              Westerpark\n",
       "21                                    Zuid"
      ]
     },
     "execution_count": 41,
     "metadata": {},
     "output_type": "execute_result"
    }
   ],
   "source": [
    "neighbourhoods"
   ]
  },
  {
   "cell_type": "code",
   "execution_count": 42,
   "id": "068057da",
   "metadata": {},
   "outputs": [],
   "source": [
    "# export neighbourhoods\n",
    "neighbourhoods.to_csv(os.path.join(path, '02 Data', 'Prepared Data', 'neighbourhoods_wrangled.csv'))"
   ]
  },
  {
   "cell_type": "markdown",
   "id": "524e0db5",
   "metadata": {},
   "source": [
    "## 06 Reviews Wrangling\n"
   ]
  },
  {
   "cell_type": "code",
   "execution_count": 43,
   "id": "6225c89e",
   "metadata": {},
   "outputs": [
    {
     "data": {
      "text/plain": [
       "(431830, 2)"
      ]
     },
     "execution_count": 43,
     "metadata": {},
     "output_type": "execute_result"
    }
   ],
   "source": [
    "# take a look at reviews\n",
    "reviews.shape"
   ]
  },
  {
   "cell_type": "code",
   "execution_count": 44,
   "id": "d887d4d2",
   "metadata": {},
   "outputs": [
    {
     "data": {
      "text/html": [
       "<div>\n",
       "<style scoped>\n",
       "    .dataframe tbody tr th:only-of-type {\n",
       "        vertical-align: middle;\n",
       "    }\n",
       "\n",
       "    .dataframe tbody tr th {\n",
       "        vertical-align: top;\n",
       "    }\n",
       "\n",
       "    .dataframe thead th {\n",
       "        text-align: right;\n",
       "    }\n",
       "</style>\n",
       "<table border=\"1\" class=\"dataframe\">\n",
       "  <thead>\n",
       "    <tr style=\"text-align: right;\">\n",
       "      <th></th>\n",
       "      <th>listing_id</th>\n",
       "      <th>date</th>\n",
       "    </tr>\n",
       "  </thead>\n",
       "  <tbody>\n",
       "    <tr>\n",
       "      <th>0</th>\n",
       "      <td>2818</td>\n",
       "      <td>2009-03-30</td>\n",
       "    </tr>\n",
       "    <tr>\n",
       "      <th>1</th>\n",
       "      <td>2818</td>\n",
       "      <td>2009-04-24</td>\n",
       "    </tr>\n",
       "    <tr>\n",
       "      <th>2</th>\n",
       "      <td>2818</td>\n",
       "      <td>2009-05-03</td>\n",
       "    </tr>\n",
       "    <tr>\n",
       "      <th>3</th>\n",
       "      <td>2818</td>\n",
       "      <td>2009-05-18</td>\n",
       "    </tr>\n",
       "    <tr>\n",
       "      <th>4</th>\n",
       "      <td>2818</td>\n",
       "      <td>2009-05-25</td>\n",
       "    </tr>\n",
       "  </tbody>\n",
       "</table>\n",
       "</div>"
      ],
      "text/plain": [
       "   listing_id        date\n",
       "0        2818  2009-03-30\n",
       "1        2818  2009-04-24\n",
       "2        2818  2009-05-03\n",
       "3        2818  2009-05-18\n",
       "4        2818  2009-05-25"
      ]
     },
     "execution_count": 44,
     "metadata": {},
     "output_type": "execute_result"
    }
   ],
   "source": [
    "reviews.head()"
   ]
  },
  {
   "cell_type": "code",
   "execution_count": 45,
   "id": "4b8d7389",
   "metadata": {},
   "outputs": [
    {
     "data": {
      "text/plain": [
       "listing_id    0\n",
       "date          0\n",
       "dtype: int64"
      ]
     },
     "execution_count": 45,
     "metadata": {},
     "output_type": "execute_result"
    }
   ],
   "source": [
    "# check for missing values\n",
    "reviews.isnull().sum()"
   ]
  },
  {
   "cell_type": "code",
   "execution_count": 46,
   "id": "c9ec5c81",
   "metadata": {},
   "outputs": [],
   "source": [
    "# check for dups\n",
    "reviews_dups = reviews[reviews.duplicated()]"
   ]
  },
  {
   "cell_type": "code",
   "execution_count": 47,
   "id": "6824b07d",
   "metadata": {},
   "outputs": [
    {
     "data": {
      "text/plain": [
       "(1321, 2)"
      ]
     },
     "execution_count": 47,
     "metadata": {},
     "output_type": "execute_result"
    }
   ],
   "source": [
    "#take a look \n",
    "reviews_dups.shape"
   ]
  },
  {
   "cell_type": "markdown",
   "id": "bf5c0924",
   "metadata": {},
   "source": [
    "### Reviews_details"
   ]
  },
  {
   "cell_type": "code",
   "execution_count": 48,
   "id": "1a86c390",
   "metadata": {},
   "outputs": [
    {
     "data": {
      "text/plain": [
       "(431830, 6)"
      ]
     },
     "execution_count": 48,
     "metadata": {},
     "output_type": "execute_result"
    }
   ],
   "source": [
    "#take a look\n",
    "reviews_details.shape"
   ]
  },
  {
   "cell_type": "code",
   "execution_count": 49,
   "id": "8fc54ea7",
   "metadata": {},
   "outputs": [
    {
     "data": {
      "text/html": [
       "<div>\n",
       "<style scoped>\n",
       "    .dataframe tbody tr th:only-of-type {\n",
       "        vertical-align: middle;\n",
       "    }\n",
       "\n",
       "    .dataframe tbody tr th {\n",
       "        vertical-align: top;\n",
       "    }\n",
       "\n",
       "    .dataframe thead th {\n",
       "        text-align: right;\n",
       "    }\n",
       "</style>\n",
       "<table border=\"1\" class=\"dataframe\">\n",
       "  <thead>\n",
       "    <tr style=\"text-align: right;\">\n",
       "      <th></th>\n",
       "      <th>listing_id</th>\n",
       "      <th>id</th>\n",
       "      <th>date</th>\n",
       "      <th>reviewer_id</th>\n",
       "      <th>reviewer_name</th>\n",
       "      <th>comments</th>\n",
       "    </tr>\n",
       "  </thead>\n",
       "  <tbody>\n",
       "    <tr>\n",
       "      <th>0</th>\n",
       "      <td>2818</td>\n",
       "      <td>1191</td>\n",
       "      <td>2009-03-30</td>\n",
       "      <td>10952</td>\n",
       "      <td>Lam</td>\n",
       "      <td>Daniel is really cool. The place was nice and ...</td>\n",
       "    </tr>\n",
       "    <tr>\n",
       "      <th>1</th>\n",
       "      <td>2818</td>\n",
       "      <td>1771</td>\n",
       "      <td>2009-04-24</td>\n",
       "      <td>12798</td>\n",
       "      <td>Alice</td>\n",
       "      <td>Daniel is the most amazing host! His place is ...</td>\n",
       "    </tr>\n",
       "    <tr>\n",
       "      <th>2</th>\n",
       "      <td>2818</td>\n",
       "      <td>1989</td>\n",
       "      <td>2009-05-03</td>\n",
       "      <td>11869</td>\n",
       "      <td>Natalja</td>\n",
       "      <td>We had such a great time in Amsterdam. Daniel ...</td>\n",
       "    </tr>\n",
       "    <tr>\n",
       "      <th>3</th>\n",
       "      <td>2818</td>\n",
       "      <td>2797</td>\n",
       "      <td>2009-05-18</td>\n",
       "      <td>14064</td>\n",
       "      <td>Enrique</td>\n",
       "      <td>Very professional operation. Room is very clea...</td>\n",
       "    </tr>\n",
       "    <tr>\n",
       "      <th>4</th>\n",
       "      <td>2818</td>\n",
       "      <td>3151</td>\n",
       "      <td>2009-05-25</td>\n",
       "      <td>17977</td>\n",
       "      <td>Sherwin</td>\n",
       "      <td>Daniel is highly recommended.  He provided all...</td>\n",
       "    </tr>\n",
       "  </tbody>\n",
       "</table>\n",
       "</div>"
      ],
      "text/plain": [
       "   listing_id    id        date  reviewer_id reviewer_name  \\\n",
       "0        2818  1191  2009-03-30        10952           Lam   \n",
       "1        2818  1771  2009-04-24        12798         Alice   \n",
       "2        2818  1989  2009-05-03        11869       Natalja   \n",
       "3        2818  2797  2009-05-18        14064       Enrique   \n",
       "4        2818  3151  2009-05-25        17977       Sherwin   \n",
       "\n",
       "                                            comments  \n",
       "0  Daniel is really cool. The place was nice and ...  \n",
       "1  Daniel is the most amazing host! His place is ...  \n",
       "2  We had such a great time in Amsterdam. Daniel ...  \n",
       "3  Very professional operation. Room is very clea...  \n",
       "4  Daniel is highly recommended.  He provided all...  "
      ]
     },
     "execution_count": 49,
     "metadata": {},
     "output_type": "execute_result"
    }
   ],
   "source": [
    "reviews_details.head()"
   ]
  },
  {
   "cell_type": "code",
   "execution_count": 50,
   "id": "e9fe6c1f",
   "metadata": {},
   "outputs": [
    {
     "data": {
      "text/plain": [
       "listing_id         0\n",
       "id                 0\n",
       "date               0\n",
       "reviewer_id        0\n",
       "reviewer_name      0\n",
       "comments         534\n",
       "dtype: int64"
      ]
     },
     "execution_count": 50,
     "metadata": {},
     "output_type": "execute_result"
    }
   ],
   "source": [
    "#check for nulls\n",
    "reviews_details.isnull().sum()"
   ]
  },
  {
   "cell_type": "code",
   "execution_count": 51,
   "id": "9f85584f",
   "metadata": {},
   "outputs": [],
   "source": [
    "#check for dups\n",
    "reviews_details_dups = reviews_details[reviews_details.duplicated()]"
   ]
  },
  {
   "cell_type": "code",
   "execution_count": 52,
   "id": "12835ef0",
   "metadata": {},
   "outputs": [
    {
     "data": {
      "text/plain": [
       "(0, 6)"
      ]
     },
     "execution_count": 52,
     "metadata": {},
     "output_type": "execute_result"
    }
   ],
   "source": [
    "reviews_details_dups.shape"
   ]
  },
  {
   "cell_type": "code",
   "execution_count": 53,
   "id": "d561ad54",
   "metadata": {},
   "outputs": [
    {
     "name": "stdout",
     "output_type": "stream",
     "text": [
      "comments\n"
     ]
    }
   ],
   "source": [
    "# check for mixed data type columns\n",
    "for col in reviews_details.columns.tolist():\n",
    "    weird = (reviews_details[[col]].applymap(type) != reviews_details[[col]].iloc[0].apply(type)).any(axis=1)\n",
    "    if len (reviews_details[weird]) > 0:\n",
    "        print (col)"
   ]
  },
  {
   "cell_type": "code",
   "execution_count": 54,
   "id": "7652bf42",
   "metadata": {},
   "outputs": [],
   "source": [
    "#make comments an object\n",
    "reviews_details['comments'] = reviews_details['comments'].astype(str)"
   ]
  },
  {
   "cell_type": "code",
   "execution_count": 55,
   "id": "fe535d68",
   "metadata": {},
   "outputs": [],
   "source": [
    "#check again\n",
    "for col in reviews_details.columns.tolist():\n",
    "    weird = (reviews_details[[col]].applymap(type) != reviews_details[[col]].iloc[0].apply(type)).any(axis=1)\n",
    "    if len (reviews_details[weird]) > 0:\n",
    "        print (col)"
   ]
  },
  {
   "cell_type": "code",
   "execution_count": 56,
   "id": "294c65cd",
   "metadata": {},
   "outputs": [],
   "source": [
    "#export reviews_details\n",
    "reviews_details.to_csv(os.path.join(path, '02 Data', 'Prepared Data', 'reviews_details_wrangled.csv'))"
   ]
  },
  {
   "cell_type": "markdown",
   "id": "acae831d",
   "metadata": {},
   "source": [
    "## 07 Listings_details wrangling"
   ]
  },
  {
   "cell_type": "code",
   "execution_count": 118,
   "id": "d8e7d7d5",
   "metadata": {},
   "outputs": [
    {
     "data": {
      "text/plain": [
       "(20030, 96)"
      ]
     },
     "execution_count": 118,
     "metadata": {},
     "output_type": "execute_result"
    }
   ],
   "source": [
    "#take a look\n",
    "listings_details.shape\n"
   ]
  },
  {
   "cell_type": "code",
   "execution_count": 119,
   "id": "96e5cd54",
   "metadata": {},
   "outputs": [
    {
     "data": {
      "text/plain": [
       "Index(['id', 'listing_url', 'scrape_id', 'last_scraped', 'name', 'summary',\n",
       "       'space', 'description', 'experiences_offered', 'neighborhood_overview',\n",
       "       'notes', 'transit', 'access', 'interaction', 'house_rules',\n",
       "       'thumbnail_url', 'medium_url', 'picture_url', 'xl_picture_url',\n",
       "       'host_id', 'host_url', 'host_name', 'host_since', 'host_location',\n",
       "       'host_about', 'host_response_time', 'host_response_rate',\n",
       "       'host_acceptance_rate', 'host_is_superhost', 'host_thumbnail_url',\n",
       "       'host_picture_url', 'host_neighbourhood', 'host_listings_count',\n",
       "       'host_total_listings_count', 'host_verifications',\n",
       "       'host_has_profile_pic', 'host_identity_verified', 'street',\n",
       "       'neighbourhood', 'neighbourhood_cleansed',\n",
       "       'neighbourhood_group_cleansed', 'city', 'state', 'zipcode', 'market',\n",
       "       'smart_location', 'country_code', 'country', 'latitude', 'longitude',\n",
       "       'is_location_exact', 'property_type', 'room_type', 'accommodates',\n",
       "       'bathrooms', 'bedrooms', 'beds', 'bed_type', 'amenities', 'square_feet',\n",
       "       'price', 'weekly_price', 'monthly_price', 'security_deposit',\n",
       "       'cleaning_fee', 'guests_included', 'extra_people', 'minimum_nights',\n",
       "       'maximum_nights', 'calendar_updated', 'has_availability',\n",
       "       'availability_30', 'availability_60', 'availability_90',\n",
       "       'availability_365', 'calendar_last_scraped', 'number_of_reviews',\n",
       "       'first_review', 'last_review', 'review_scores_rating',\n",
       "       'review_scores_accuracy', 'review_scores_cleanliness',\n",
       "       'review_scores_checkin', 'review_scores_communication',\n",
       "       'review_scores_location', 'review_scores_value', 'requires_license',\n",
       "       'license', 'jurisdiction_names', 'instant_bookable',\n",
       "       'is_business_travel_ready', 'cancellation_policy',\n",
       "       'require_guest_profile_picture', 'require_guest_phone_verification',\n",
       "       'calculated_host_listings_count', 'reviews_per_month'],\n",
       "      dtype='object')"
      ]
     },
     "execution_count": 119,
     "metadata": {},
     "output_type": "execute_result"
    }
   ],
   "source": [
    "listings_details.columns"
   ]
  },
  {
   "cell_type": "code",
   "execution_count": 120,
   "id": "3fd471a9",
   "metadata": {},
   "outputs": [],
   "source": [
    "# drop unnecessary columns\n",
    "listings_details = listings_details.drop(columns = ['listing_url', 'scrape_id', 'last_scraped','summary','space', 'description', 'experiences_offered', 'neighborhood_overview',\n",
    "       'notes', 'transit', 'access', 'interaction', 'house_rules','thumbnail_url', 'medium_url', 'picture_url', 'xl_picture_url',\n",
    "       'host_url', 'host_name', 'host_about','host_acceptance_rate', 'host_thumbnail_url',\n",
    "       'host_picture_url', 'host_total_listings_count', 'host_identity_verified', 'neighbourhood_group_cleansed','amenities','calendar_last_scraped','requires_license',\n",
    "       'license', 'jurisdiction_names', 'is_business_travel_ready', 'require_guest_profile_picture', 'require_guest_phone_verification',\n",
    "       'reviews_per_month'])"
   ]
  },
  {
   "cell_type": "code",
   "execution_count": 121,
   "id": "1ff76f40",
   "metadata": {},
   "outputs": [
    {
     "data": {
      "text/plain": [
       "Index(['id', 'name', 'host_id', 'host_since', 'host_location',\n",
       "       'host_response_time', 'host_response_rate', 'host_is_superhost',\n",
       "       'host_neighbourhood', 'host_listings_count', 'host_verifications',\n",
       "       'host_has_profile_pic', 'street', 'neighbourhood',\n",
       "       'neighbourhood_cleansed', 'city', 'state', 'zipcode', 'market',\n",
       "       'smart_location', 'country_code', 'country', 'latitude', 'longitude',\n",
       "       'is_location_exact', 'property_type', 'room_type', 'accommodates',\n",
       "       'bathrooms', 'bedrooms', 'beds', 'bed_type', 'square_feet', 'price',\n",
       "       'weekly_price', 'monthly_price', 'security_deposit', 'cleaning_fee',\n",
       "       'guests_included', 'extra_people', 'minimum_nights', 'maximum_nights',\n",
       "       'calendar_updated', 'has_availability', 'availability_30',\n",
       "       'availability_60', 'availability_90', 'availability_365',\n",
       "       'number_of_reviews', 'first_review', 'last_review',\n",
       "       'review_scores_rating', 'review_scores_accuracy',\n",
       "       'review_scores_cleanliness', 'review_scores_checkin',\n",
       "       'review_scores_communication', 'review_scores_location',\n",
       "       'review_scores_value', 'instant_bookable', 'cancellation_policy',\n",
       "       'calculated_host_listings_count'],\n",
       "      dtype='object')"
      ]
     },
     "execution_count": 121,
     "metadata": {},
     "output_type": "execute_result"
    }
   ],
   "source": [
    "listings_details.columns"
   ]
  },
  {
   "cell_type": "code",
   "execution_count": null,
   "id": "aba40982",
   "metadata": {},
   "outputs": [],
   "source": []
  },
  {
   "cell_type": "code",
   "execution_count": 122,
   "id": "1ca98b69",
   "metadata": {},
   "outputs": [],
   "source": [
    "details_nuls = listings_details.isnull().sum()"
   ]
  },
  {
   "cell_type": "code",
   "execution_count": 123,
   "id": "15e9907c",
   "metadata": {},
   "outputs": [],
   "source": [
    "details_nuls.to_clipboard()"
   ]
  },
  {
   "cell_type": "code",
   "execution_count": 124,
   "id": "93334027",
   "metadata": {},
   "outputs": [
    {
     "name": "stdout",
     "output_type": "stream",
     "text": [
      "name\n",
      "host_since\n",
      "host_location\n",
      "host_response_time\n",
      "host_response_rate\n",
      "host_is_superhost\n",
      "host_neighbourhood\n",
      "host_verifications\n",
      "host_has_profile_pic\n",
      "neighbourhood\n",
      "city\n",
      "state\n",
      "zipcode\n",
      "market\n",
      "weekly_price\n",
      "monthly_price\n",
      "security_deposit\n",
      "cleaning_fee\n",
      "first_review\n",
      "last_review\n"
     ]
    }
   ],
   "source": [
    "# check for mixed data type columns\n",
    "for col in listings_details.columns.tolist():\n",
    "    weird = (listings_details[[col]].applymap(type) != listings_details[[col]].iloc[0].apply(type)).any(axis=1)\n",
    "    if len (listings_details[weird]) > 0:\n",
    "        print (col)"
   ]
  },
  {
   "cell_type": "code",
   "execution_count": 125,
   "id": "e1f5499e",
   "metadata": {},
   "outputs": [],
   "source": [
    "listings_details = listings_details.drop(columns = ['host_verifications'])"
   ]
  },
  {
   "cell_type": "code",
   "execution_count": 126,
   "id": "4402bf75",
   "metadata": {},
   "outputs": [
    {
     "data": {
      "text/plain": [
       "host_since      object\n",
       "cleaning_fee    object\n",
       "dtype: object"
      ]
     },
     "execution_count": 126,
     "metadata": {},
     "output_type": "execute_result"
    }
   ],
   "source": [
    "listings_details[['host_since', 'cleaning_fee']].dtypes"
   ]
  },
  {
   "cell_type": "code",
   "execution_count": 127,
   "id": "c50dac61",
   "metadata": {},
   "outputs": [],
   "source": [
    "#check for duplicates\n",
    "list_deets_dups = listings_details[listings_details.duplicated()]"
   ]
  },
  {
   "cell_type": "code",
   "execution_count": 128,
   "id": "fcd18c35",
   "metadata": {},
   "outputs": [
    {
     "data": {
      "text/plain": [
       "(0, 60)"
      ]
     },
     "execution_count": 128,
     "metadata": {},
     "output_type": "execute_result"
    }
   ],
   "source": [
    "list_deets_dups.shape"
   ]
  },
  {
   "cell_type": "code",
   "execution_count": 130,
   "id": "dc9baa78",
   "metadata": {},
   "outputs": [],
   "source": [
    "#split out host info\n",
    "host_info = listings_details[['host_id', 'host_since',  'host_location',  'host_response_time', 'host_response_rate', 'host_is_superhost', 'host_neighbourhood', 'host_listings_count']]"
   ]
  },
  {
   "cell_type": "code",
   "execution_count": 131,
   "id": "4d853996",
   "metadata": {},
   "outputs": [
    {
     "data": {
      "text/plain": [
       "(20030, 8)"
      ]
     },
     "execution_count": 131,
     "metadata": {},
     "output_type": "execute_result"
    }
   ],
   "source": [
    "#take a look\n",
    "host_info.shape"
   ]
  },
  {
   "cell_type": "code",
   "execution_count": 132,
   "id": "60b6ae0e",
   "metadata": {},
   "outputs": [
    {
     "data": {
      "text/plain": [
       "host_id                   0\n",
       "host_since                4\n",
       "host_location            39\n",
       "host_response_time     9483\n",
       "host_response_rate     9483\n",
       "host_is_superhost         4\n",
       "host_neighbourhood     5808\n",
       "host_listings_count       4\n",
       "dtype: int64"
      ]
     },
     "execution_count": 132,
     "metadata": {},
     "output_type": "execute_result"
    }
   ],
   "source": [
    "#check for missing values\n",
    "host_info.isnull().sum()"
   ]
  },
  {
   "cell_type": "code",
   "execution_count": 133,
   "id": "aac1c3fc",
   "metadata": {},
   "outputs": [],
   "source": [
    "# check for duplicates\n",
    "host_dups = host_info[host_info.duplicated()]"
   ]
  },
  {
   "cell_type": "code",
   "execution_count": 134,
   "id": "a820f760",
   "metadata": {},
   "outputs": [
    {
     "data": {
      "text/plain": [
       "(2766, 8)"
      ]
     },
     "execution_count": 134,
     "metadata": {},
     "output_type": "execute_result"
    }
   ],
   "source": [
    "host_dups.shape"
   ]
  },
  {
   "cell_type": "code",
   "execution_count": 163,
   "id": "28b5a8ba",
   "metadata": {},
   "outputs": [],
   "source": [
    "#make a clean dup free host_info\n",
    "host_info_no_dups = host_info.drop_duplicates()"
   ]
  },
  {
   "cell_type": "code",
   "execution_count": 164,
   "id": "2b130939",
   "metadata": {},
   "outputs": [
    {
     "data": {
      "text/plain": [
       "(17264, 8)"
      ]
     },
     "execution_count": 164,
     "metadata": {},
     "output_type": "execute_result"
    }
   ],
   "source": [
    "#check the shape\n",
    "host_info_no_dups.shape"
   ]
  },
  {
   "cell_type": "code",
   "execution_count": 165,
   "id": "40c87b46",
   "metadata": {},
   "outputs": [],
   "source": [
    "#replace it. \n",
    "host_info = host_info_no_dups"
   ]
  },
  {
   "cell_type": "code",
   "execution_count": 166,
   "id": "1ef5ef65",
   "metadata": {},
   "outputs": [
    {
     "data": {
      "text/plain": [
       "host_listings_count\n",
       "1.0      15122\n",
       "2.0       1566\n",
       "3.0        279\n",
       "4.0         93\n",
       "5.0         43\n",
       "6.0         35\n",
       "0.0         22\n",
       "8.0         16\n",
       "7.0         13\n",
       "9.0          7\n",
       "11.0         6\n",
       "12.0         6\n",
       "13.0         6\n",
       "10.0         5\n",
       "NaN          4\n",
       "19.0         4\n",
       "15.0         3\n",
       "14.0         3\n",
       "16.0         3\n",
       "24.0         2\n",
       "38.0         2\n",
       "17.0         2\n",
       "28.0         1\n",
       "130.0        1\n",
       "23.0         1\n",
       "33.0         1\n",
       "698.0        1\n",
       "271.0        1\n",
       "32.0         1\n",
       "96.0         1\n",
       "287.0        1\n",
       "20.0         1\n",
       "27.0         1\n",
       "34.0         1\n",
       "21.0         1\n",
       "213.0        1\n",
       "18.0         1\n",
       "49.0         1\n",
       "48.0         1\n",
       "29.0         1\n",
       "26.0         1\n",
       "108.0        1\n",
       "109.0        1\n",
       "25.0         1\n",
       "Name: count, dtype: int64"
      ]
     },
     "execution_count": 166,
     "metadata": {},
     "output_type": "execute_result"
    }
   ],
   "source": [
    "host_info['host_listings_count'].value_counts(dropna = False)"
   ]
  },
  {
   "cell_type": "code",
   "execution_count": 167,
   "id": "2edec20e",
   "metadata": {},
   "outputs": [
    {
     "data": {
      "text/html": [
       "<div>\n",
       "<style scoped>\n",
       "    .dataframe tbody tr th:only-of-type {\n",
       "        vertical-align: middle;\n",
       "    }\n",
       "\n",
       "    .dataframe tbody tr th {\n",
       "        vertical-align: top;\n",
       "    }\n",
       "\n",
       "    .dataframe thead th {\n",
       "        text-align: right;\n",
       "    }\n",
       "</style>\n",
       "<table border=\"1\" class=\"dataframe\">\n",
       "  <thead>\n",
       "    <tr style=\"text-align: right;\">\n",
       "      <th></th>\n",
       "      <th>host_id</th>\n",
       "      <th>host_since</th>\n",
       "      <th>host_location</th>\n",
       "      <th>host_response_time</th>\n",
       "      <th>host_response_rate</th>\n",
       "      <th>host_is_superhost</th>\n",
       "      <th>host_neighbourhood</th>\n",
       "      <th>host_listings_count</th>\n",
       "    </tr>\n",
       "  </thead>\n",
       "  <tbody>\n",
       "    <tr>\n",
       "      <th>0</th>\n",
       "      <td>3159</td>\n",
       "      <td>2008-09-24</td>\n",
       "      <td>Amsterdam, Noord-Holland, The Netherlands</td>\n",
       "      <td>within an hour</td>\n",
       "      <td>100%</td>\n",
       "      <td>t</td>\n",
       "      <td>Indische Buurt</td>\n",
       "      <td>1.0</td>\n",
       "    </tr>\n",
       "    <tr>\n",
       "      <th>1</th>\n",
       "      <td>3806</td>\n",
       "      <td>2008-10-24</td>\n",
       "      <td>Amsterdam, Noord-Holland, The Netherlands</td>\n",
       "      <td>within an hour</td>\n",
       "      <td>100%</td>\n",
       "      <td>f</td>\n",
       "      <td>Spaarndammer en Zeeheldenbuurt</td>\n",
       "      <td>1.0</td>\n",
       "    </tr>\n",
       "    <tr>\n",
       "      <th>2</th>\n",
       "      <td>59484</td>\n",
       "      <td>2009-12-02</td>\n",
       "      <td>Amsterdam, Noord-Holland, The Netherlands</td>\n",
       "      <td>within a few hours</td>\n",
       "      <td>100%</td>\n",
       "      <td>f</td>\n",
       "      <td>Grachtengordel</td>\n",
       "      <td>2.0</td>\n",
       "    </tr>\n",
       "    <tr>\n",
       "      <th>3</th>\n",
       "      <td>56142</td>\n",
       "      <td>2009-11-20</td>\n",
       "      <td>New York, New York, United States</td>\n",
       "      <td>within a few hours</td>\n",
       "      <td>100%</td>\n",
       "      <td>f</td>\n",
       "      <td>Grachtengordel</td>\n",
       "      <td>2.0</td>\n",
       "    </tr>\n",
       "    <tr>\n",
       "      <th>4</th>\n",
       "      <td>97647</td>\n",
       "      <td>2010-03-23</td>\n",
       "      <td>Amsterdam, Noord-Holland, The Netherlands</td>\n",
       "      <td>within an hour</td>\n",
       "      <td>100%</td>\n",
       "      <td>t</td>\n",
       "      <td>Westelijke Eilanden</td>\n",
       "      <td>1.0</td>\n",
       "    </tr>\n",
       "  </tbody>\n",
       "</table>\n",
       "</div>"
      ],
      "text/plain": [
       "   host_id  host_since                              host_location  \\\n",
       "0     3159  2008-09-24  Amsterdam, Noord-Holland, The Netherlands   \n",
       "1     3806  2008-10-24  Amsterdam, Noord-Holland, The Netherlands   \n",
       "2    59484  2009-12-02  Amsterdam, Noord-Holland, The Netherlands   \n",
       "3    56142  2009-11-20          New York, New York, United States   \n",
       "4    97647  2010-03-23  Amsterdam, Noord-Holland, The Netherlands   \n",
       "\n",
       "   host_response_time host_response_rate host_is_superhost  \\\n",
       "0      within an hour               100%                 t   \n",
       "1      within an hour               100%                 f   \n",
       "2  within a few hours               100%                 f   \n",
       "3  within a few hours               100%                 f   \n",
       "4      within an hour               100%                 t   \n",
       "\n",
       "               host_neighbourhood  host_listings_count  \n",
       "0                  Indische Buurt                  1.0  \n",
       "1  Spaarndammer en Zeeheldenbuurt                  1.0  \n",
       "2                  Grachtengordel                  2.0  \n",
       "3                  Grachtengordel                  2.0  \n",
       "4             Westelijke Eilanden                  1.0  "
      ]
     },
     "execution_count": 167,
     "metadata": {},
     "output_type": "execute_result"
    }
   ],
   "source": [
    "host_info.head()"
   ]
  },
  {
   "cell_type": "code",
   "execution_count": 168,
   "id": "75bde8ec",
   "metadata": {},
   "outputs": [],
   "source": [
    "# export host_info\n",
    "host_info.to_csv(os.path.join(path, '02 Data', 'Prepared Data', 'host_info.csv'))"
   ]
  },
  {
   "cell_type": "markdown",
   "id": "fa7b244e",
   "metadata": {},
   "source": [
    "### Change datatypes"
   ]
  },
  {
   "cell_type": "code",
   "execution_count": 137,
   "id": "4b96dcd9",
   "metadata": {},
   "outputs": [],
   "source": [
    "# remove the $\n",
    "listings_details['price'] = listings_details['price'].str.extract('(\\d+)', expand = False)"
   ]
  },
  {
   "cell_type": "code",
   "execution_count": 138,
   "id": "5ca11c95",
   "metadata": {},
   "outputs": [],
   "source": [
    "# change dtype\n",
    "listings_details['price'] = listings_details['price'].astype(float)"
   ]
  },
  {
   "cell_type": "code",
   "execution_count": 139,
   "id": "0111c889",
   "metadata": {},
   "outputs": [],
   "source": [
    "# remove the $\n",
    "listings_details['weekly_price'] = listings_details['weekly_price'].str.extract('(\\d+)', expand = False)"
   ]
  },
  {
   "cell_type": "code",
   "execution_count": 140,
   "id": "cfc1bd1e",
   "metadata": {},
   "outputs": [],
   "source": [
    "# change dtype\n",
    "listings_details['weekly_price'] = listings_details['weekly_price'].astype(float)"
   ]
  },
  {
   "cell_type": "code",
   "execution_count": 141,
   "id": "8c272e7f",
   "metadata": {},
   "outputs": [],
   "source": [
    "# remove the $\n",
    "listings_details['monthly_price'] = listings_details['monthly_price'].str.extract('(\\d+)', expand = False)"
   ]
  },
  {
   "cell_type": "code",
   "execution_count": 142,
   "id": "44b3c912",
   "metadata": {},
   "outputs": [],
   "source": [
    "# change dtype\n",
    "listings_details['monthly_price'] = listings_details['monthly_price'].astype(float)"
   ]
  },
  {
   "cell_type": "code",
   "execution_count": 143,
   "id": "78731d96",
   "metadata": {},
   "outputs": [],
   "source": [
    "# remove the $\n",
    "listings_details['security_deposit'] = listings_details['security_deposit'].str.extract('(\\d+)', expand = False)"
   ]
  },
  {
   "cell_type": "code",
   "execution_count": 144,
   "id": "bac84e70",
   "metadata": {},
   "outputs": [],
   "source": [
    "# change dtype\n",
    "listings_details['security_deposit'] = listings_details['security_deposit'].astype(float)"
   ]
  },
  {
   "cell_type": "code",
   "execution_count": 145,
   "id": "dde67db6",
   "metadata": {},
   "outputs": [],
   "source": [
    "# remove the $\n",
    "listings_details['cleaning_fee'] = listings_details['cleaning_fee'].str.extract('(\\d+)', expand = False)"
   ]
  },
  {
   "cell_type": "code",
   "execution_count": 146,
   "id": "314dca5b",
   "metadata": {},
   "outputs": [],
   "source": [
    "# change dtype\n",
    "listings_details['cleaning_fee'] = listings_details['cleaning_fee'].astype(float)"
   ]
  },
  {
   "cell_type": "code",
   "execution_count": 147,
   "id": "db27170c",
   "metadata": {},
   "outputs": [],
   "source": [
    "# remove the $\n",
    "listings_details['extra_people'] = listings_details['extra_people'].str.extract('(\\d+)', expand = False)"
   ]
  },
  {
   "cell_type": "code",
   "execution_count": 148,
   "id": "722ad85f",
   "metadata": {},
   "outputs": [],
   "source": [
    "# change dtype\n",
    "listings_details['extra_people'] = listings_details['extra_people'].astype(float)"
   ]
  },
  {
   "cell_type": "code",
   "execution_count": 149,
   "id": "e86a0a9f",
   "metadata": {},
   "outputs": [
    {
     "name": "stdout",
     "output_type": "stream",
     "text": [
      "name\n",
      "host_since\n",
      "host_location\n",
      "host_response_time\n",
      "host_response_rate\n",
      "host_is_superhost\n",
      "host_neighbourhood\n",
      "host_has_profile_pic\n",
      "neighbourhood\n",
      "city\n",
      "state\n",
      "zipcode\n",
      "market\n",
      "first_review\n",
      "last_review\n"
     ]
    }
   ],
   "source": [
    "# check for mixed data type columns\n",
    "for col in listings_details.columns.tolist():\n",
    "    weird = (listings_details[[col]].applymap(type) != listings_details[[col]].iloc[0].apply(type)).any(axis=1)\n",
    "    if len (listings_details[weird]) > 0:\n",
    "        print (col)"
   ]
  },
  {
   "cell_type": "code",
   "execution_count": 150,
   "id": "a59ec3f5",
   "metadata": {},
   "outputs": [],
   "source": [
    "# change dtype\n",
    "listings_details['name'] = listings_details['name'].astype(str)"
   ]
  },
  {
   "cell_type": "code",
   "execution_count": 151,
   "id": "6d269bee",
   "metadata": {},
   "outputs": [],
   "source": [
    "# change dtype\n",
    "listings_details['host_location'] = listings_details['host_location'].astype(str)"
   ]
  },
  {
   "cell_type": "code",
   "execution_count": 152,
   "id": "708da535",
   "metadata": {},
   "outputs": [],
   "source": [
    "# change dtype\n",
    "listings_details['host_response_time'] = listings_details['host_response_time'].astype(str)"
   ]
  },
  {
   "cell_type": "code",
   "execution_count": 153,
   "id": "2b420f54",
   "metadata": {},
   "outputs": [],
   "source": [
    "# change dtype\n",
    "listings_details['host_is_superhost'] = listings_details['host_is_superhost'].astype(str)"
   ]
  },
  {
   "cell_type": "code",
   "execution_count": 154,
   "id": "5e75ac58",
   "metadata": {},
   "outputs": [
    {
     "data": {
      "text/plain": [
       "host_is_superhost\n",
       "f      16856\n",
       "t       3170\n",
       "nan        4\n",
       "Name: count, dtype: int64"
      ]
     },
     "execution_count": 154,
     "metadata": {},
     "output_type": "execute_result"
    }
   ],
   "source": [
    "listings_details['host_is_superhost'].value_counts(dropna = False)"
   ]
  },
  {
   "cell_type": "code",
   "execution_count": 155,
   "id": "8463d294",
   "metadata": {},
   "outputs": [],
   "source": [
    "# change dtype\n",
    "listings_details['host_neighbourhood'] = listings_details['host_neighbourhood'].astype(str)"
   ]
  },
  {
   "cell_type": "code",
   "execution_count": 156,
   "id": "2bbfbf44",
   "metadata": {},
   "outputs": [],
   "source": [
    "# change dtype\n",
    "listings_details['host_has_profile_pic'] = listings_details['host_has_profile_pic'].astype(str)"
   ]
  },
  {
   "cell_type": "code",
   "execution_count": 157,
   "id": "1bf11ef5",
   "metadata": {},
   "outputs": [],
   "source": [
    "# change dtype\n",
    "listings_details['neighbourhood'] = listings_details['neighbourhood'].astype(str)"
   ]
  },
  {
   "cell_type": "code",
   "execution_count": 158,
   "id": "87f34d61",
   "metadata": {},
   "outputs": [],
   "source": [
    "# change dtype\n",
    "listings_details['city'] = listings_details['city'].astype(str)"
   ]
  },
  {
   "cell_type": "code",
   "execution_count": 159,
   "id": "0af09c7b",
   "metadata": {},
   "outputs": [],
   "source": [
    "# change dtype\n",
    "listings_details['state'] = listings_details['state'].astype(str)"
   ]
  },
  {
   "cell_type": "code",
   "execution_count": null,
   "id": "15f9b3ea",
   "metadata": {},
   "outputs": [],
   "source": []
  },
  {
   "cell_type": "code",
   "execution_count": 160,
   "id": "5b8e0832",
   "metadata": {},
   "outputs": [],
   "source": [
    "# change dtype\n",
    "listings_details['zipcode'] = listings_details['zipcode'].astype(str)"
   ]
  },
  {
   "cell_type": "code",
   "execution_count": 161,
   "id": "a6867c74",
   "metadata": {},
   "outputs": [],
   "source": [
    "# change dtype\n",
    "listings_details['market'] = listings_details['market'].astype(str)"
   ]
  },
  {
   "cell_type": "code",
   "execution_count": 162,
   "id": "7f8f8ff3",
   "metadata": {},
   "outputs": [
    {
     "name": "stdout",
     "output_type": "stream",
     "text": [
      "host_since\n",
      "host_response_rate\n",
      "first_review\n",
      "last_review\n"
     ]
    }
   ],
   "source": [
    "#check again \n",
    "for col in listings_details.columns.tolist():\n",
    "    weird = (listings_details[[col]].applymap(type) != listings_details[[col]].iloc[0].apply(type)).any(axis=1)\n",
    "    if len (listings_details[weird]) > 0:\n",
    "        print (col)"
   ]
  },
  {
   "cell_type": "code",
   "execution_count": null,
   "id": "0296282e",
   "metadata": {},
   "outputs": [],
   "source": []
  },
  {
   "cell_type": "code",
   "execution_count": null,
   "id": "88476f9a",
   "metadata": {},
   "outputs": [],
   "source": []
  },
  {
   "cell_type": "code",
   "execution_count": 106,
   "id": "f79a221e",
   "metadata": {},
   "outputs": [],
   "source": [
    "#seperate the prices and reviews\n",
    "list_num = listings_details[['id', 'host_id', 'square_feet', 'price',\n",
    "       'weekly_price', 'monthly_price', 'security_deposit', 'cleaning_fee',\n",
    "       'guests_included', 'extra_people', 'minimum_nights', 'maximum_nights','number_of_reviews',\n",
    "        'review_scores_rating', 'review_scores_accuracy',\n",
    "       'review_scores_cleanliness', 'review_scores_checkin',\n",
    "       'review_scores_communication', 'review_scores_location',\n",
    "       'review_scores_value','calculated_host_listings_count']]"
   ]
  },
  {
   "cell_type": "code",
   "execution_count": 107,
   "id": "4a12f759",
   "metadata": {},
   "outputs": [
    {
     "data": {
      "text/plain": [
       "(20030, 21)"
      ]
     },
     "execution_count": 107,
     "metadata": {},
     "output_type": "execute_result"
    }
   ],
   "source": [
    "list_num.shape"
   ]
  },
  {
   "cell_type": "code",
   "execution_count": 108,
   "id": "da1b0868",
   "metadata": {},
   "outputs": [
    {
     "data": {
      "text/html": [
       "<div>\n",
       "<style scoped>\n",
       "    .dataframe tbody tr th:only-of-type {\n",
       "        vertical-align: middle;\n",
       "    }\n",
       "\n",
       "    .dataframe tbody tr th {\n",
       "        vertical-align: top;\n",
       "    }\n",
       "\n",
       "    .dataframe thead th {\n",
       "        text-align: right;\n",
       "    }\n",
       "</style>\n",
       "<table border=\"1\" class=\"dataframe\">\n",
       "  <thead>\n",
       "    <tr style=\"text-align: right;\">\n",
       "      <th></th>\n",
       "      <th>id</th>\n",
       "      <th>host_id</th>\n",
       "      <th>square_feet</th>\n",
       "      <th>price</th>\n",
       "      <th>weekly_price</th>\n",
       "      <th>monthly_price</th>\n",
       "      <th>security_deposit</th>\n",
       "      <th>cleaning_fee</th>\n",
       "      <th>guests_included</th>\n",
       "      <th>extra_people</th>\n",
       "      <th>...</th>\n",
       "      <th>maximum_nights</th>\n",
       "      <th>number_of_reviews</th>\n",
       "      <th>review_scores_rating</th>\n",
       "      <th>review_scores_accuracy</th>\n",
       "      <th>review_scores_cleanliness</th>\n",
       "      <th>review_scores_checkin</th>\n",
       "      <th>review_scores_communication</th>\n",
       "      <th>review_scores_location</th>\n",
       "      <th>review_scores_value</th>\n",
       "      <th>calculated_host_listings_count</th>\n",
       "    </tr>\n",
       "  </thead>\n",
       "  <tbody>\n",
       "    <tr>\n",
       "      <th>0</th>\n",
       "      <td>2818</td>\n",
       "      <td>3159</td>\n",
       "      <td>NaN</td>\n",
       "      <td>59.0</td>\n",
       "      <td>NaN</td>\n",
       "      <td>1.0</td>\n",
       "      <td>100.0</td>\n",
       "      <td>50.0</td>\n",
       "      <td>1</td>\n",
       "      <td>20.0</td>\n",
       "      <td>...</td>\n",
       "      <td>15</td>\n",
       "      <td>248</td>\n",
       "      <td>97.0</td>\n",
       "      <td>10.0</td>\n",
       "      <td>10.0</td>\n",
       "      <td>10.0</td>\n",
       "      <td>10.0</td>\n",
       "      <td>9.0</td>\n",
       "      <td>10.0</td>\n",
       "      <td>1</td>\n",
       "    </tr>\n",
       "    <tr>\n",
       "      <th>1</th>\n",
       "      <td>3209</td>\n",
       "      <td>3806</td>\n",
       "      <td>NaN</td>\n",
       "      <td>160.0</td>\n",
       "      <td>543.0</td>\n",
       "      <td>2.0</td>\n",
       "      <td>300.0</td>\n",
       "      <td>40.0</td>\n",
       "      <td>2</td>\n",
       "      <td>15.0</td>\n",
       "      <td>...</td>\n",
       "      <td>20</td>\n",
       "      <td>42</td>\n",
       "      <td>96.0</td>\n",
       "      <td>10.0</td>\n",
       "      <td>9.0</td>\n",
       "      <td>10.0</td>\n",
       "      <td>10.0</td>\n",
       "      <td>9.0</td>\n",
       "      <td>9.0</td>\n",
       "      <td>1</td>\n",
       "    </tr>\n",
       "    <tr>\n",
       "      <th>2</th>\n",
       "      <td>20168</td>\n",
       "      <td>59484</td>\n",
       "      <td>NaN</td>\n",
       "      <td>80.0</td>\n",
       "      <td>NaN</td>\n",
       "      <td>NaN</td>\n",
       "      <td>NaN</td>\n",
       "      <td>NaN</td>\n",
       "      <td>2</td>\n",
       "      <td>0.0</td>\n",
       "      <td>...</td>\n",
       "      <td>1000</td>\n",
       "      <td>233</td>\n",
       "      <td>87.0</td>\n",
       "      <td>9.0</td>\n",
       "      <td>10.0</td>\n",
       "      <td>9.0</td>\n",
       "      <td>9.0</td>\n",
       "      <td>10.0</td>\n",
       "      <td>9.0</td>\n",
       "      <td>2</td>\n",
       "    </tr>\n",
       "    <tr>\n",
       "      <th>3</th>\n",
       "      <td>25428</td>\n",
       "      <td>56142</td>\n",
       "      <td>NaN</td>\n",
       "      <td>125.0</td>\n",
       "      <td>650.0</td>\n",
       "      <td>2.0</td>\n",
       "      <td>300.0</td>\n",
       "      <td>40.0</td>\n",
       "      <td>2</td>\n",
       "      <td>10.0</td>\n",
       "      <td>...</td>\n",
       "      <td>60</td>\n",
       "      <td>1</td>\n",
       "      <td>100.0</td>\n",
       "      <td>10.0</td>\n",
       "      <td>10.0</td>\n",
       "      <td>10.0</td>\n",
       "      <td>10.0</td>\n",
       "      <td>10.0</td>\n",
       "      <td>10.0</td>\n",
       "      <td>2</td>\n",
       "    </tr>\n",
       "    <tr>\n",
       "      <th>4</th>\n",
       "      <td>27886</td>\n",
       "      <td>97647</td>\n",
       "      <td>NaN</td>\n",
       "      <td>150.0</td>\n",
       "      <td>810.0</td>\n",
       "      <td>2.0</td>\n",
       "      <td>0.0</td>\n",
       "      <td>0.0</td>\n",
       "      <td>1</td>\n",
       "      <td>0.0</td>\n",
       "      <td>...</td>\n",
       "      <td>730</td>\n",
       "      <td>171</td>\n",
       "      <td>99.0</td>\n",
       "      <td>10.0</td>\n",
       "      <td>10.0</td>\n",
       "      <td>10.0</td>\n",
       "      <td>10.0</td>\n",
       "      <td>10.0</td>\n",
       "      <td>10.0</td>\n",
       "      <td>1</td>\n",
       "    </tr>\n",
       "    <tr>\n",
       "      <th>5</th>\n",
       "      <td>28658</td>\n",
       "      <td>123414</td>\n",
       "      <td>NaN</td>\n",
       "      <td>65.0</td>\n",
       "      <td>NaN</td>\n",
       "      <td>NaN</td>\n",
       "      <td>150.0</td>\n",
       "      <td>15.0</td>\n",
       "      <td>2</td>\n",
       "      <td>0.0</td>\n",
       "      <td>...</td>\n",
       "      <td>15</td>\n",
       "      <td>434</td>\n",
       "      <td>93.0</td>\n",
       "      <td>9.0</td>\n",
       "      <td>10.0</td>\n",
       "      <td>10.0</td>\n",
       "      <td>9.0</td>\n",
       "      <td>9.0</td>\n",
       "      <td>9.0</td>\n",
       "      <td>2</td>\n",
       "    </tr>\n",
       "    <tr>\n",
       "      <th>6</th>\n",
       "      <td>28871</td>\n",
       "      <td>124245</td>\n",
       "      <td>NaN</td>\n",
       "      <td>75.0</td>\n",
       "      <td>499.0</td>\n",
       "      <td>1.0</td>\n",
       "      <td>NaN</td>\n",
       "      <td>NaN</td>\n",
       "      <td>1</td>\n",
       "      <td>0.0</td>\n",
       "      <td>...</td>\n",
       "      <td>1825</td>\n",
       "      <td>215</td>\n",
       "      <td>97.0</td>\n",
       "      <td>10.0</td>\n",
       "      <td>10.0</td>\n",
       "      <td>10.0</td>\n",
       "      <td>10.0</td>\n",
       "      <td>10.0</td>\n",
       "      <td>10.0</td>\n",
       "      <td>3</td>\n",
       "    </tr>\n",
       "    <tr>\n",
       "      <th>7</th>\n",
       "      <td>29051</td>\n",
       "      <td>124245</td>\n",
       "      <td>NaN</td>\n",
       "      <td>55.0</td>\n",
       "      <td>350.0</td>\n",
       "      <td>1.0</td>\n",
       "      <td>NaN</td>\n",
       "      <td>NaN</td>\n",
       "      <td>1</td>\n",
       "      <td>0.0</td>\n",
       "      <td>...</td>\n",
       "      <td>730</td>\n",
       "      <td>383</td>\n",
       "      <td>95.0</td>\n",
       "      <td>10.0</td>\n",
       "      <td>10.0</td>\n",
       "      <td>10.0</td>\n",
       "      <td>10.0</td>\n",
       "      <td>10.0</td>\n",
       "      <td>10.0</td>\n",
       "      <td>3</td>\n",
       "    </tr>\n",
       "    <tr>\n",
       "      <th>8</th>\n",
       "      <td>31080</td>\n",
       "      <td>133488</td>\n",
       "      <td>NaN</td>\n",
       "      <td>219.0</td>\n",
       "      <td>1.0</td>\n",
       "      <td>4.0</td>\n",
       "      <td>NaN</td>\n",
       "      <td>60.0</td>\n",
       "      <td>4</td>\n",
       "      <td>30.0</td>\n",
       "      <td>...</td>\n",
       "      <td>365</td>\n",
       "      <td>32</td>\n",
       "      <td>95.0</td>\n",
       "      <td>9.0</td>\n",
       "      <td>10.0</td>\n",
       "      <td>10.0</td>\n",
       "      <td>10.0</td>\n",
       "      <td>9.0</td>\n",
       "      <td>9.0</td>\n",
       "      <td>1</td>\n",
       "    </tr>\n",
       "    <tr>\n",
       "      <th>9</th>\n",
       "      <td>41125</td>\n",
       "      <td>178515</td>\n",
       "      <td>NaN</td>\n",
       "      <td>180.0</td>\n",
       "      <td>650.0</td>\n",
       "      <td>1.0</td>\n",
       "      <td>150.0</td>\n",
       "      <td>40.0</td>\n",
       "      <td>2</td>\n",
       "      <td>75.0</td>\n",
       "      <td>...</td>\n",
       "      <td>21</td>\n",
       "      <td>76</td>\n",
       "      <td>95.0</td>\n",
       "      <td>10.0</td>\n",
       "      <td>9.0</td>\n",
       "      <td>10.0</td>\n",
       "      <td>10.0</td>\n",
       "      <td>10.0</td>\n",
       "      <td>9.0</td>\n",
       "      <td>1</td>\n",
       "    </tr>\n",
       "  </tbody>\n",
       "</table>\n",
       "<p>10 rows × 21 columns</p>\n",
       "</div>"
      ],
      "text/plain": [
       "      id  host_id  square_feet  price  weekly_price  monthly_price  \\\n",
       "0   2818     3159          NaN   59.0           NaN            1.0   \n",
       "1   3209     3806          NaN  160.0         543.0            2.0   \n",
       "2  20168    59484          NaN   80.0           NaN            NaN   \n",
       "3  25428    56142          NaN  125.0         650.0            2.0   \n",
       "4  27886    97647          NaN  150.0         810.0            2.0   \n",
       "5  28658   123414          NaN   65.0           NaN            NaN   \n",
       "6  28871   124245          NaN   75.0         499.0            1.0   \n",
       "7  29051   124245          NaN   55.0         350.0            1.0   \n",
       "8  31080   133488          NaN  219.0           1.0            4.0   \n",
       "9  41125   178515          NaN  180.0         650.0            1.0   \n",
       "\n",
       "   security_deposit  cleaning_fee  guests_included  extra_people  ...  \\\n",
       "0             100.0          50.0                1          20.0  ...   \n",
       "1             300.0          40.0                2          15.0  ...   \n",
       "2               NaN           NaN                2           0.0  ...   \n",
       "3             300.0          40.0                2          10.0  ...   \n",
       "4               0.0           0.0                1           0.0  ...   \n",
       "5             150.0          15.0                2           0.0  ...   \n",
       "6               NaN           NaN                1           0.0  ...   \n",
       "7               NaN           NaN                1           0.0  ...   \n",
       "8               NaN          60.0                4          30.0  ...   \n",
       "9             150.0          40.0                2          75.0  ...   \n",
       "\n",
       "   maximum_nights  number_of_reviews  review_scores_rating  \\\n",
       "0              15                248                  97.0   \n",
       "1              20                 42                  96.0   \n",
       "2            1000                233                  87.0   \n",
       "3              60                  1                 100.0   \n",
       "4             730                171                  99.0   \n",
       "5              15                434                  93.0   \n",
       "6            1825                215                  97.0   \n",
       "7             730                383                  95.0   \n",
       "8             365                 32                  95.0   \n",
       "9              21                 76                  95.0   \n",
       "\n",
       "   review_scores_accuracy  review_scores_cleanliness  review_scores_checkin  \\\n",
       "0                    10.0                       10.0                   10.0   \n",
       "1                    10.0                        9.0                   10.0   \n",
       "2                     9.0                       10.0                    9.0   \n",
       "3                    10.0                       10.0                   10.0   \n",
       "4                    10.0                       10.0                   10.0   \n",
       "5                     9.0                       10.0                   10.0   \n",
       "6                    10.0                       10.0                   10.0   \n",
       "7                    10.0                       10.0                   10.0   \n",
       "8                     9.0                       10.0                   10.0   \n",
       "9                    10.0                        9.0                   10.0   \n",
       "\n",
       "   review_scores_communication  review_scores_location  review_scores_value  \\\n",
       "0                         10.0                     9.0                 10.0   \n",
       "1                         10.0                     9.0                  9.0   \n",
       "2                          9.0                    10.0                  9.0   \n",
       "3                         10.0                    10.0                 10.0   \n",
       "4                         10.0                    10.0                 10.0   \n",
       "5                          9.0                     9.0                  9.0   \n",
       "6                         10.0                    10.0                 10.0   \n",
       "7                         10.0                    10.0                 10.0   \n",
       "8                         10.0                     9.0                  9.0   \n",
       "9                         10.0                    10.0                  9.0   \n",
       "\n",
       "   calculated_host_listings_count  \n",
       "0                               1  \n",
       "1                               1  \n",
       "2                               2  \n",
       "3                               2  \n",
       "4                               1  \n",
       "5                               2  \n",
       "6                               3  \n",
       "7                               3  \n",
       "8                               1  \n",
       "9                               1  \n",
       "\n",
       "[10 rows x 21 columns]"
      ]
     },
     "execution_count": 108,
     "metadata": {},
     "output_type": "execute_result"
    }
   ],
   "source": [
    "list_num.head(10)"
   ]
  },
  {
   "cell_type": "code",
   "execution_count": 169,
   "id": "d90f8d5e",
   "metadata": {},
   "outputs": [],
   "source": [
    "#export list_num\n",
    "list_num.to_csv(os.path.join(path, '02 Data', 'Prepared Data', 'listings_numeric.csv'))"
   ]
  },
  {
   "cell_type": "code",
   "execution_count": 171,
   "id": "b702acb4",
   "metadata": {},
   "outputs": [],
   "source": [
    "#export listings_details\n",
    "listings_details.to_csv(os.path.join(path, '02 Data', 'Prepared Data', 'listings_details_wrangled.csv'))"
   ]
  },
  {
   "cell_type": "code",
   "execution_count": null,
   "id": "e176a3d0",
   "metadata": {},
   "outputs": [],
   "source": []
  }
 ],
 "metadata": {
  "kernelspec": {
   "display_name": "Python 3 (ipykernel)",
   "language": "python",
   "name": "python3"
  },
  "language_info": {
   "codemirror_mode": {
    "name": "ipython",
    "version": 3
   },
   "file_extension": ".py",
   "mimetype": "text/x-python",
   "name": "python",
   "nbconvert_exporter": "python",
   "pygments_lexer": "ipython3",
   "version": "3.11.4"
  }
 },
 "nbformat": 4,
 "nbformat_minor": 5
}
